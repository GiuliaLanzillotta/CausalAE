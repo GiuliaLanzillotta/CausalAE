{
 "cells": [
  {
   "cell_type": "code",
   "execution_count": 1,
   "metadata": {},
   "outputs": [],
   "source": [
    "from pathlib import Path\n",
    "import os\n",
    "_cwd = os.getcwd()\n",
    "os.chdir(Path(_cwd)/'..') # .\\SAE\\\n",
    "os.getcwd()\n",
    "fig_path = Path(\"./figures/\")\n",
    "if not os.path.exists(fig_path):\n",
    "    os.makedirs(fig_path)"
   ]
  },
  {
   "cell_type": "code",
   "execution_count": 2,
   "metadata": {},
   "outputs": [],
   "source": [
    "import numpy as np\n",
    "import torch\n",
    "from matplotlib.lines import Line2D\n",
    "import matplotlib.pyplot as plt\n",
    "import itertools\n",
    "import pandas as pd\n",
    "import seaborn as sns \n",
    "import matplotlib.pyplot as plt\n",
    "import pandas as pd\n",
    "import networkx as nx\n",
    "\n",
    "%matplotlib inline"
   ]
  },
  {
   "cell_type": "code",
   "execution_count": 3,
   "metadata": {},
   "outputs": [],
   "source": [
    "# ------- internal imports\n",
    "from models import GenerativeAE\n",
    "import models, metrics, experiments, datasets\n",
    "from metrics import score_disentanglement \n",
    "from experiments import EvaluationManager\n",
    "from experiments.EvaluationManager import ModelHandler, VisualModelHandler, VectorModelHandler\n",
    "from datasets import synth_dataset \n",
    "import visualisations\n",
    "from visualisations import visualise_data, visualise_model"
   ]
  },
  {
   "cell_type": "markdown",
   "metadata": {},
   "source": [
    "# Explore datasets"
   ]
  },
  {
   "cell_type": "code",
   "execution_count": null,
   "metadata": {},
   "outputs": [],
   "source": [
    "standard_handler = VectorModelHandler(model_name=\"VecESAE\", model_version=\"standard\", data=\"SynthVec\", data_version=\"standard\", verbose=False)\n",
    "big_handler = VectorModelHandler(model_name=\"VecESAE\", model_version=\"standard\", data=\"SynthVec\", data_version=\"big\", verbose=False)"
   ]
  },
  {
   "cell_type": "code",
   "execution_count": null,
   "metadata": {},
   "outputs": [],
   "source": [
    "standard_handler.plot_data()"
   ]
  },
  {
   "cell_type": "code",
   "execution_count": null,
   "metadata": {},
   "outputs": [],
   "source": [
    "big_handler.plot_data()"
   ]
  },
  {
   "cell_type": "code",
   "execution_count": null,
   "metadata": {},
   "outputs": [],
   "source": [
    "train = standard_handler.dataloader.train.dataset.dataset\n",
    "test = standard_handler.dataloader.test.dataset"
   ]
  },
  {
   "cell_type": "code",
   "execution_count": null,
   "metadata": {},
   "outputs": [],
   "source": [
    "print(train)\n",
    "print(np.mean(train.original_labels, axis=0))\n",
    "print(np.std(train.original_labels, axis=0))\n",
    "sns.distplot(train.original_labels[:,5], kde=False) \n",
    "sns.distplot(train.labels[:,5], kde=False)"
   ]
  },
  {
   "cell_type": "code",
   "execution_count": null,
   "metadata": {},
   "outputs": [],
   "source": [
    "print(test)\n",
    "print(np.mean(test.original_labels, axis=0))\n",
    "print(np.std(test.original_labels, axis=0))\n",
    "sns.distplot(test.original_labels[:,6], kde=False) # very low std \n",
    "sns.distplot(test.original_labels[:,6], kde=False, bins=20)"
   ]
  },
  {
   "cell_type": "code",
   "execution_count": null,
   "metadata": {},
   "outputs": [],
   "source": [
    "X1,Y1,N1,X2,Y2,N2,metadata = train.read_source_files()\n",
    "sns.distplot(N1[:,7], kde=False, bins=20)\n",
    "equations = train.metadata[\"equations\"]\n",
    "ancestors = train.metadata[\"node_ancestors\"]\n",
    "node_order = train.metadata[\"node_order\"]\n",
    "samplers = train.metadata[\"samplers\"]"
   ]
  },
  {
   "cell_type": "code",
   "execution_count": null,
   "metadata": {},
   "outputs": [],
   "source": [
    "graph_adj = train.get_graph_matrix()\n",
    "print(graph_adj)\n",
    "figure = plt.figure(figsize=(7,4))\n",
    "nx.draw(train.metadata[\"graph\"], with_labels=True, \n",
    "        node_size=300, node_color=\"#99dddd\", \n",
    "        edge_color=\"#55ff11\", pos=nx.planar_layout(train.metadata[\"graph\"])) "
   ]
  },
  {
   "cell_type": "code",
   "execution_count": null,
   "metadata": {},
   "outputs": [],
   "source": []
  }
 ],
 "metadata": {
  "kernelspec": {
   "display_name": "Python 3 (ipykernel)",
   "language": "python",
   "name": "python3"
  },
  "language_info": {
   "codemirror_mode": {
    "name": "ipython",
    "version": 3
   },
   "file_extension": ".py",
   "mimetype": "text/x-python",
   "name": "python",
   "nbconvert_exporter": "python",
   "pygments_lexer": "ipython3",
   "version": "3.7.13"
  }
 },
 "nbformat": 4,
 "nbformat_minor": 2
}
