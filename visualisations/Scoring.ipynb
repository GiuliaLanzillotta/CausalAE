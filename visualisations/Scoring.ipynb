{
 "cells": [
  {
   "cell_type": "markdown",
   "metadata": {},
   "source": [
    "Scoring the models and visualising the scores"
   ]
  },
  {
   "cell_type": "code",
   "execution_count": 1,
   "metadata": {},
   "outputs": [],
   "source": [
    "from pathlib import Path\n",
    "from matplotlib.patches import Patch\n",
    "import os\n",
    "_cwd = os.getcwd()\n",
    "os.chdir(Path(_cwd)/'..') # .\\SAE\\\n",
    "os.getcwd()\n",
    "fig_path = Path(\"./figures/\")\n",
    "if not os.path.exists(fig_path):\n",
    "    os.makedirs(fig_path)\n",
    "\n",
    "import numpy as np\n",
    "import torch\n",
    "from matplotlib.lines import Line2D\n",
    "import matplotlib.pyplot as plt\n",
    "import itertools\n",
    "import pandas as pd\n",
    "import seaborn as sns \n",
    "import matplotlib.pyplot as plt\n",
    "import pandas as pd\n",
    "import networkx as nx\n",
    "\n",
    "%matplotlib inline\n",
    "\n",
    "# ------- internal imports\n",
    "from models import GenerativeAE\n",
    "import models, metrics, experiments, datasets\n",
    "from metrics import score_disentanglement \n",
    "from experiments import EvaluationManager\n",
    "from experiments.EvaluationManager import ModelHandler, VisualModelHandler, VectorModelHandler\n",
    "from datasets import synth_dataset \n",
    "import visualisations\n",
    "from visualisations import ModelVisualiser, SynthVecDataVisualiser\n",
    "from visualisations import visualise_data, visualise_model"
   ]
  },
  {
   "cell_type": "markdown",
   "metadata": {},
   "source": [
    "# Disentanglement scoring "
   ]
  },
  {
   "cell_type": "markdown",
   "metadata": {},
   "source": [
    "## Visual datasets"
   ]
  },
  {
   "cell_type": "code",
   "execution_count": 36,
   "metadata": {},
   "outputs": [],
   "source": [
    "#load all scores and save them in lists \n",
    "#extract relevan numbers from the lists and form a df\n",
    "# plot df with seaborn\n",
    "model_names =  [\"XSAE\"]#,\"RSAE\",\"RAE\",\"AE\",\"BetaVAE\"]\n",
    "model_versions = [[\"standardS\"]]\n",
    "                  #, [\"standardS\", \"standard\",\"v121\"], \n",
    "                  #[\"standardS\", \"standard\",\"v121\"],[\"standardS\", \"standard\",\"v121\"], \n",
    "                  #[\"standardS\", \"standard\"]]"
   ]
  },
  {
   "cell_type": "code",
   "execution_count": 2,
   "metadata": {},
   "outputs": [],
   "source": [
    "# X-class models\n",
    "model_names = [\"XAE\",\"XSAE\"]#,\"XVAE\",\"XCAE\", \"XCSAE\"\n",
    "model_versions = [[\"uniform\",\"multidim\"]]*2\n",
    "#model_versions = [[\"standardS\",\"standard\",\"v121\"]]*3 + [[\"standardS\"]]*2"
   ]
  },
  {
   "cell_type": "code",
   "execution_count": 37,
   "metadata": {},
   "outputs": [],
   "source": [
    "model_params=[]\n",
    "for i,model_n in enumerate(model_names): \n",
    "    for model_v in model_versions[i]:\n",
    "        _params = {\"model_name\":model_n,\n",
    "                   \"model_version\":model_v,\n",
    "                   \"data\":\"MNIST\" if model_v!=\"v121\" else \"3DS\"}\n",
    "        model_params.append(_params)"
   ]
  },
  {
   "cell_type": "code",
   "execution_count": 38,
   "metadata": {
    "scrolled": false
   },
   "outputs": [
    {
     "name": "stdout",
     "output_type": "stream",
     "text": [
      "configs/models/XSAE/standardS.yaml\n",
      "Initialising schedulers Manager...\n",
      "Explicit mode ON\n",
      "XSAE model hanlder loaded.\n"
     ]
    }
   ],
   "source": [
    "scores=[]\n",
    "for params in model_params:\n",
    "        handler = (ModelHandler.from_config(**params, verbose=False))\n",
    "        handler.config[\"logging_params\"][\"save_dir\"] = \"./logs\"\n",
    "        scores.append(handler.load_scores(name=\"scoring\"))"
   ]
  },
  {
   "cell_type": "code",
   "execution_count": 39,
   "metadata": {},
   "outputs": [],
   "source": [
    "# fill the dataframe\n",
    "scores_df = pd.DataFrame()\n",
    "scores_df[\"model_name\"] = [params[\"model_name\"] for params in model_params]\n",
    "scores_df[\"model_version\"] = [params[\"model_version\"] for params in model_params]\n",
    "scores_df[\"dataset\"] = [params[\"data\"] for params in model_params]\n",
    "for i,score_set in enumerate(scores):\n",
    "    try: \n",
    "        for k,v in score_set.items():\n",
    "            scores_df.loc[i,k] = v\n",
    "    except AttributeError: \n",
    "        continue"
   ]
  },
  {
   "cell_type": "code",
   "execution_count": 40,
   "metadata": {},
   "outputs": [
    {
     "data": {
      "text/html": [
       "<div>\n",
       "<style scoped>\n",
       "    .dataframe tbody tr th:only-of-type {\n",
       "        vertical-align: middle;\n",
       "    }\n",
       "\n",
       "    .dataframe tbody tr th {\n",
       "        vertical-align: top;\n",
       "    }\n",
       "\n",
       "    .dataframe thead th {\n",
       "        text-align: right;\n",
       "    }\n",
       "</style>\n",
       "<table border=\"1\" class=\"dataframe\">\n",
       "  <thead>\n",
       "    <tr style=\"text-align: right;\">\n",
       "      <th></th>\n",
       "      <th>model_name</th>\n",
       "      <th>model_version</th>\n",
       "      <th>dataset</th>\n",
       "      <th>RBF</th>\n",
       "      <th>IMQ</th>\n",
       "      <th>dCOV</th>\n",
       "      <th>DCI</th>\n",
       "      <th>IRS</th>\n",
       "      <th>MIG</th>\n",
       "      <th>ModExp</th>\n",
       "      <th>SAP</th>\n",
       "      <th>FID</th>\n",
       "    </tr>\n",
       "  </thead>\n",
       "  <tbody>\n",
       "    <tr>\n",
       "      <th>0</th>\n",
       "      <td>XSAE</td>\n",
       "      <td>standardS</td>\n",
       "      <td>MNIST</td>\n",
       "      <td>0.003097</td>\n",
       "      <td>0.018545</td>\n",
       "      <td>0.265934</td>\n",
       "      <td>NaN</td>\n",
       "      <td>0.694465</td>\n",
       "      <td>0.042998</td>\n",
       "      <td>NaN</td>\n",
       "      <td>0.014</td>\n",
       "      <td>28.780144</td>\n",
       "    </tr>\n",
       "  </tbody>\n",
       "</table>\n",
       "</div>"
      ],
      "text/plain": [
       "  model_name model_version dataset       RBF       IMQ      dCOV  DCI  \\\n",
       "0       XSAE     standardS   MNIST  0.003097  0.018545  0.265934  NaN   \n",
       "\n",
       "        IRS       MIG  ModExp    SAP        FID  \n",
       "0  0.694465  0.042998     NaN  0.014  28.780144  "
      ]
     },
     "execution_count": 40,
     "metadata": {},
     "output_type": "execute_result"
    }
   ],
   "source": [
    "scores_df.drop(\"CAT\", axis=1)"
   ]
  },
  {
   "cell_type": "code",
   "execution_count": 43,
   "metadata": {},
   "outputs": [],
   "source": [
    "full_df.to_csv(\"Scores_full.csv\")"
   ]
  },
  {
   "cell_type": "code",
   "execution_count": 28,
   "metadata": {},
   "outputs": [],
   "source": [
    "full_df = pd.read_csv(\"Scores_full.csv\", index_col=0)"
   ]
  },
  {
   "cell_type": "code",
   "execution_count": 41,
   "metadata": {},
   "outputs": [
    {
     "name": "stderr",
     "output_type": "stream",
     "text": [
      "c:\\users\\giulia\\appdata\\local\\programs\\python\\python37\\lib\\site-packages\\ipykernel_launcher.py:1: FutureWarning: Sorting because non-concatenation axis is not aligned. A future version\n",
      "of pandas will change to not sort by default.\n",
      "\n",
      "To accept the future behavior, pass 'sort=False'.\n",
      "\n",
      "To retain the current behavior and silence the warning, pass 'sort=True'.\n",
      "\n",
      "  \"\"\"Entry point for launching an IPython kernel.\n"
     ]
    }
   ],
   "source": [
    "full_df = pd.concat([scores_df, full_df], ignore_index=True)"
   ]
  },
  {
   "cell_type": "code",
   "execution_count": 42,
   "metadata": {
    "scrolled": true
   },
   "outputs": [
    {
     "data": {
      "text/html": [
       "<div>\n",
       "<style scoped>\n",
       "    .dataframe tbody tr th:only-of-type {\n",
       "        vertical-align: middle;\n",
       "    }\n",
       "\n",
       "    .dataframe tbody tr th {\n",
       "        vertical-align: top;\n",
       "    }\n",
       "\n",
       "    .dataframe thead th {\n",
       "        text-align: right;\n",
       "    }\n",
       "</style>\n",
       "<table border=\"1\" class=\"dataframe\">\n",
       "  <thead>\n",
       "    <tr style=\"text-align: right;\">\n",
       "      <th></th>\n",
       "      <th>CAT</th>\n",
       "      <th>DCI</th>\n",
       "      <th>FID</th>\n",
       "      <th>IMQ</th>\n",
       "      <th>IRS</th>\n",
       "      <th>MIG</th>\n",
       "      <th>ModExp</th>\n",
       "      <th>RBF</th>\n",
       "      <th>SAP</th>\n",
       "      <th>dCOV</th>\n",
       "      <th>dataset</th>\n",
       "      <th>model_name</th>\n",
       "      <th>model_version</th>\n",
       "    </tr>\n",
       "  </thead>\n",
       "  <tbody>\n",
       "    <tr>\n",
       "      <th>0</th>\n",
       "      <td>-56.818623</td>\n",
       "      <td>NaN</td>\n",
       "      <td>28.780144</td>\n",
       "      <td>0.018545</td>\n",
       "      <td>0.694465</td>\n",
       "      <td>0.042998</td>\n",
       "      <td>NaN</td>\n",
       "      <td>0.003097</td>\n",
       "      <td>0.014000</td>\n",
       "      <td>0.265934</td>\n",
       "      <td>MNIST</td>\n",
       "      <td>XSAE</td>\n",
       "      <td>standardS</td>\n",
       "    </tr>\n",
       "    <tr>\n",
       "      <th>1</th>\n",
       "      <td>-163.742264</td>\n",
       "      <td>0.819014</td>\n",
       "      <td>30.991769</td>\n",
       "      <td>0.012457</td>\n",
       "      <td>0.641158</td>\n",
       "      <td>0.385582</td>\n",
       "      <td>0.930223</td>\n",
       "      <td>0.002005</td>\n",
       "      <td>0.132333</td>\n",
       "      <td>0.329517</td>\n",
       "      <td>3DS</td>\n",
       "      <td>XSAE</td>\n",
       "      <td>v121</td>\n",
       "    </tr>\n",
       "    <tr>\n",
       "      <th>2</th>\n",
       "      <td>-108.748917</td>\n",
       "      <td>NaN</td>\n",
       "      <td>23.357188</td>\n",
       "      <td>0.013519</td>\n",
       "      <td>0.509226</td>\n",
       "      <td>0.050385</td>\n",
       "      <td>NaN</td>\n",
       "      <td>0.002267</td>\n",
       "      <td>0.044000</td>\n",
       "      <td>0.154872</td>\n",
       "      <td>MNIST</td>\n",
       "      <td>XSAE</td>\n",
       "      <td>standard</td>\n",
       "    </tr>\n",
       "    <tr>\n",
       "      <th>3</th>\n",
       "      <td>-100.753990</td>\n",
       "      <td>NaN</td>\n",
       "      <td>23.411017</td>\n",
       "      <td>0.012398</td>\n",
       "      <td>0.524709</td>\n",
       "      <td>0.001706</td>\n",
       "      <td>NaN</td>\n",
       "      <td>0.001882</td>\n",
       "      <td>0.038000</td>\n",
       "      <td>0.143742</td>\n",
       "      <td>MNIST</td>\n",
       "      <td>XCSAE</td>\n",
       "      <td>standard</td>\n",
       "    </tr>\n",
       "    <tr>\n",
       "      <th>4</th>\n",
       "      <td>-57.079391</td>\n",
       "      <td>NaN</td>\n",
       "      <td>22.838230</td>\n",
       "      <td>0.013017</td>\n",
       "      <td>0.516027</td>\n",
       "      <td>0.008658</td>\n",
       "      <td>NaN</td>\n",
       "      <td>0.002075</td>\n",
       "      <td>0.044000</td>\n",
       "      <td>0.075921</td>\n",
       "      <td>MNIST</td>\n",
       "      <td>XAE</td>\n",
       "      <td>uniform</td>\n",
       "    </tr>\n",
       "    <tr>\n",
       "      <th>5</th>\n",
       "      <td>-96.858383</td>\n",
       "      <td>NaN</td>\n",
       "      <td>21.827783</td>\n",
       "      <td>0.011469</td>\n",
       "      <td>0.466371</td>\n",
       "      <td>0.007777</td>\n",
       "      <td>NaN</td>\n",
       "      <td>0.001978</td>\n",
       "      <td>0.014000</td>\n",
       "      <td>0.053683</td>\n",
       "      <td>MNIST</td>\n",
       "      <td>XAE</td>\n",
       "      <td>multidim</td>\n",
       "    </tr>\n",
       "    <tr>\n",
       "      <th>6</th>\n",
       "      <td>-88.436607</td>\n",
       "      <td>NaN</td>\n",
       "      <td>23.470231</td>\n",
       "      <td>0.013661</td>\n",
       "      <td>0.580276</td>\n",
       "      <td>0.022948</td>\n",
       "      <td>NaN</td>\n",
       "      <td>0.002178</td>\n",
       "      <td>0.022000</td>\n",
       "      <td>0.136615</td>\n",
       "      <td>MNIST</td>\n",
       "      <td>XSAE</td>\n",
       "      <td>uniform</td>\n",
       "    </tr>\n",
       "    <tr>\n",
       "      <th>7</th>\n",
       "      <td>-103.739120</td>\n",
       "      <td>NaN</td>\n",
       "      <td>22.367383</td>\n",
       "      <td>0.011744</td>\n",
       "      <td>0.505433</td>\n",
       "      <td>0.008245</td>\n",
       "      <td>NaN</td>\n",
       "      <td>0.002169</td>\n",
       "      <td>0.002000</td>\n",
       "      <td>0.061390</td>\n",
       "      <td>MNIST</td>\n",
       "      <td>XSAE</td>\n",
       "      <td>multidim</td>\n",
       "    </tr>\n",
       "    <tr>\n",
       "      <th>8</th>\n",
       "      <td>-48.296021</td>\n",
       "      <td>NaN</td>\n",
       "      <td>28.713507</td>\n",
       "      <td>0.017033</td>\n",
       "      <td>0.657263</td>\n",
       "      <td>0.049121</td>\n",
       "      <td>NaN</td>\n",
       "      <td>0.002306</td>\n",
       "      <td>0.018000</td>\n",
       "      <td>0.172199</td>\n",
       "      <td>MNIST</td>\n",
       "      <td>XAE</td>\n",
       "      <td>standardS</td>\n",
       "    </tr>\n",
       "    <tr>\n",
       "      <th>9</th>\n",
       "      <td>-68.324272</td>\n",
       "      <td>NaN</td>\n",
       "      <td>22.886947</td>\n",
       "      <td>0.011703</td>\n",
       "      <td>0.556465</td>\n",
       "      <td>0.072207</td>\n",
       "      <td>NaN</td>\n",
       "      <td>0.001695</td>\n",
       "      <td>0.006000</td>\n",
       "      <td>0.076834</td>\n",
       "      <td>MNIST</td>\n",
       "      <td>XAE</td>\n",
       "      <td>standard</td>\n",
       "    </tr>\n",
       "    <tr>\n",
       "      <th>10</th>\n",
       "      <td>-172.532379</td>\n",
       "      <td>0.851460</td>\n",
       "      <td>28.644042</td>\n",
       "      <td>0.013210</td>\n",
       "      <td>0.729619</td>\n",
       "      <td>0.342135</td>\n",
       "      <td>0.943443</td>\n",
       "      <td>0.002343</td>\n",
       "      <td>0.162000</td>\n",
       "      <td>0.339010</td>\n",
       "      <td>3DS</td>\n",
       "      <td>XAE</td>\n",
       "      <td>v121</td>\n",
       "    </tr>\n",
       "    <tr>\n",
       "      <th>11</th>\n",
       "      <td>-56.818623</td>\n",
       "      <td>NaN</td>\n",
       "      <td>28.780144</td>\n",
       "      <td>0.018545</td>\n",
       "      <td>0.694465</td>\n",
       "      <td>0.042998</td>\n",
       "      <td>NaN</td>\n",
       "      <td>0.003097</td>\n",
       "      <td>0.014000</td>\n",
       "      <td>0.265934</td>\n",
       "      <td>MNIST</td>\n",
       "      <td>XSAE</td>\n",
       "      <td>standardS</td>\n",
       "    </tr>\n",
       "    <tr>\n",
       "      <th>12</th>\n",
       "      <td>NaN</td>\n",
       "      <td>NaN</td>\n",
       "      <td>NaN</td>\n",
       "      <td>NaN</td>\n",
       "      <td>NaN</td>\n",
       "      <td>NaN</td>\n",
       "      <td>NaN</td>\n",
       "      <td>NaN</td>\n",
       "      <td>NaN</td>\n",
       "      <td>NaN</td>\n",
       "      <td>MNIST</td>\n",
       "      <td>XSAE</td>\n",
       "      <td>standard</td>\n",
       "    </tr>\n",
       "    <tr>\n",
       "      <th>13</th>\n",
       "      <td>NaN</td>\n",
       "      <td>NaN</td>\n",
       "      <td>NaN</td>\n",
       "      <td>NaN</td>\n",
       "      <td>NaN</td>\n",
       "      <td>NaN</td>\n",
       "      <td>NaN</td>\n",
       "      <td>NaN</td>\n",
       "      <td>NaN</td>\n",
       "      <td>NaN</td>\n",
       "      <td>3DS</td>\n",
       "      <td>XSAE</td>\n",
       "      <td>v121</td>\n",
       "    </tr>\n",
       "    <tr>\n",
       "      <th>14</th>\n",
       "      <td>-30.417618</td>\n",
       "      <td>NaN</td>\n",
       "      <td>50.131192</td>\n",
       "      <td>0.011500</td>\n",
       "      <td>0.508415</td>\n",
       "      <td>0.100822</td>\n",
       "      <td>NaN</td>\n",
       "      <td>0.001413</td>\n",
       "      <td>0.056000</td>\n",
       "      <td>0.093780</td>\n",
       "      <td>MNIST</td>\n",
       "      <td>XVAE</td>\n",
       "      <td>standardS</td>\n",
       "    </tr>\n",
       "    <tr>\n",
       "      <th>15</th>\n",
       "      <td>-65.323128</td>\n",
       "      <td>NaN</td>\n",
       "      <td>35.970357</td>\n",
       "      <td>0.010736</td>\n",
       "      <td>0.493017</td>\n",
       "      <td>0.048758</td>\n",
       "      <td>NaN</td>\n",
       "      <td>0.001462</td>\n",
       "      <td>0.036000</td>\n",
       "      <td>0.053322</td>\n",
       "      <td>MNIST</td>\n",
       "      <td>XVAE</td>\n",
       "      <td>standard</td>\n",
       "    </tr>\n",
       "    <tr>\n",
       "      <th>16</th>\n",
       "      <td>-47.645638</td>\n",
       "      <td>0.412325</td>\n",
       "      <td>41.807204</td>\n",
       "      <td>0.010318</td>\n",
       "      <td>0.866912</td>\n",
       "      <td>0.360649</td>\n",
       "      <td>0.824038</td>\n",
       "      <td>0.001279</td>\n",
       "      <td>0.053000</td>\n",
       "      <td>0.040903</td>\n",
       "      <td>3DS</td>\n",
       "      <td>XVAE</td>\n",
       "      <td>v121</td>\n",
       "    </tr>\n",
       "    <tr>\n",
       "      <th>17</th>\n",
       "      <td>-45.935398</td>\n",
       "      <td>NaN</td>\n",
       "      <td>28.763475</td>\n",
       "      <td>0.014696</td>\n",
       "      <td>0.653419</td>\n",
       "      <td>0.048041</td>\n",
       "      <td>NaN</td>\n",
       "      <td>0.001958</td>\n",
       "      <td>0.014000</td>\n",
       "      <td>0.156416</td>\n",
       "      <td>MNIST</td>\n",
       "      <td>XCAE</td>\n",
       "      <td>standardS</td>\n",
       "    </tr>\n",
       "    <tr>\n",
       "      <th>18</th>\n",
       "      <td>-77.512527</td>\n",
       "      <td>NaN</td>\n",
       "      <td>28.791191</td>\n",
       "      <td>0.017756</td>\n",
       "      <td>0.684862</td>\n",
       "      <td>0.037042</td>\n",
       "      <td>NaN</td>\n",
       "      <td>0.002994</td>\n",
       "      <td>0.034000</td>\n",
       "      <td>0.350013</td>\n",
       "      <td>MNIST</td>\n",
       "      <td>XCSAE</td>\n",
       "      <td>standardS</td>\n",
       "    </tr>\n",
       "    <tr>\n",
       "      <th>19</th>\n",
       "      <td>-42.427330</td>\n",
       "      <td>NaN</td>\n",
       "      <td>28.798369</td>\n",
       "      <td>0.018936</td>\n",
       "      <td>0.633436</td>\n",
       "      <td>0.023126</td>\n",
       "      <td>NaN</td>\n",
       "      <td>0.002196</td>\n",
       "      <td>0.008000</td>\n",
       "      <td>0.230804</td>\n",
       "      <td>MNIST</td>\n",
       "      <td>BaseSAE</td>\n",
       "      <td>standardS</td>\n",
       "    </tr>\n",
       "    <tr>\n",
       "      <th>20</th>\n",
       "      <td>NaN</td>\n",
       "      <td>NaN</td>\n",
       "      <td>22.858877</td>\n",
       "      <td>NaN</td>\n",
       "      <td>NaN</td>\n",
       "      <td>NaN</td>\n",
       "      <td>NaN</td>\n",
       "      <td>NaN</td>\n",
       "      <td>NaN</td>\n",
       "      <td>NaN</td>\n",
       "      <td>MNIST</td>\n",
       "      <td>BaseSAE</td>\n",
       "      <td>standard</td>\n",
       "    </tr>\n",
       "    <tr>\n",
       "      <th>21</th>\n",
       "      <td>NaN</td>\n",
       "      <td>0.959151</td>\n",
       "      <td>30.325523</td>\n",
       "      <td>NaN</td>\n",
       "      <td>0.830507</td>\n",
       "      <td>0.340869</td>\n",
       "      <td>0.975216</td>\n",
       "      <td>NaN</td>\n",
       "      <td>0.131333</td>\n",
       "      <td>NaN</td>\n",
       "      <td>3DS</td>\n",
       "      <td>BaseSAE</td>\n",
       "      <td>v121</td>\n",
       "    </tr>\n",
       "    <tr>\n",
       "      <th>22</th>\n",
       "      <td>NaN</td>\n",
       "      <td>NaN</td>\n",
       "      <td>28.636894</td>\n",
       "      <td>NaN</td>\n",
       "      <td>0.555063</td>\n",
       "      <td>0.080150</td>\n",
       "      <td>NaN</td>\n",
       "      <td>NaN</td>\n",
       "      <td>0.026000</td>\n",
       "      <td>NaN</td>\n",
       "      <td>MNIST</td>\n",
       "      <td>RSAE</td>\n",
       "      <td>standardS</td>\n",
       "    </tr>\n",
       "    <tr>\n",
       "      <th>23</th>\n",
       "      <td>NaN</td>\n",
       "      <td>NaN</td>\n",
       "      <td>23.175668</td>\n",
       "      <td>NaN</td>\n",
       "      <td>0.505061</td>\n",
       "      <td>0.021068</td>\n",
       "      <td>NaN</td>\n",
       "      <td>NaN</td>\n",
       "      <td>0.002000</td>\n",
       "      <td>NaN</td>\n",
       "      <td>MNIST</td>\n",
       "      <td>RSAE</td>\n",
       "      <td>standard</td>\n",
       "    </tr>\n",
       "    <tr>\n",
       "      <th>24</th>\n",
       "      <td>NaN</td>\n",
       "      <td>0.959625</td>\n",
       "      <td>30.236795</td>\n",
       "      <td>NaN</td>\n",
       "      <td>0.838192</td>\n",
       "      <td>0.283833</td>\n",
       "      <td>0.976034</td>\n",
       "      <td>NaN</td>\n",
       "      <td>0.103667</td>\n",
       "      <td>NaN</td>\n",
       "      <td>3DS</td>\n",
       "      <td>RSAE</td>\n",
       "      <td>v121</td>\n",
       "    </tr>\n",
       "    <tr>\n",
       "      <th>25</th>\n",
       "      <td>NaN</td>\n",
       "      <td>NaN</td>\n",
       "      <td>28.575820</td>\n",
       "      <td>NaN</td>\n",
       "      <td>0.654341</td>\n",
       "      <td>0.007335</td>\n",
       "      <td>NaN</td>\n",
       "      <td>NaN</td>\n",
       "      <td>0.086000</td>\n",
       "      <td>NaN</td>\n",
       "      <td>MNIST</td>\n",
       "      <td>RAE</td>\n",
       "      <td>standardS</td>\n",
       "    </tr>\n",
       "    <tr>\n",
       "      <th>26</th>\n",
       "      <td>NaN</td>\n",
       "      <td>NaN</td>\n",
       "      <td>22.371234</td>\n",
       "      <td>NaN</td>\n",
       "      <td>0.574963</td>\n",
       "      <td>0.009698</td>\n",
       "      <td>NaN</td>\n",
       "      <td>NaN</td>\n",
       "      <td>0.008000</td>\n",
       "      <td>NaN</td>\n",
       "      <td>MNIST</td>\n",
       "      <td>RAE</td>\n",
       "      <td>standard</td>\n",
       "    </tr>\n",
       "    <tr>\n",
       "      <th>27</th>\n",
       "      <td>NaN</td>\n",
       "      <td>0.386966</td>\n",
       "      <td>28.583247</td>\n",
       "      <td>NaN</td>\n",
       "      <td>0.523947</td>\n",
       "      <td>0.159371</td>\n",
       "      <td>0.883021</td>\n",
       "      <td>NaN</td>\n",
       "      <td>0.077333</td>\n",
       "      <td>NaN</td>\n",
       "      <td>3DS</td>\n",
       "      <td>RAE</td>\n",
       "      <td>v121</td>\n",
       "    </tr>\n",
       "    <tr>\n",
       "      <th>28</th>\n",
       "      <td>NaN</td>\n",
       "      <td>NaN</td>\n",
       "      <td>28.651501</td>\n",
       "      <td>NaN</td>\n",
       "      <td>0.678239</td>\n",
       "      <td>0.024973</td>\n",
       "      <td>NaN</td>\n",
       "      <td>NaN</td>\n",
       "      <td>0.010000</td>\n",
       "      <td>NaN</td>\n",
       "      <td>MNIST</td>\n",
       "      <td>AE</td>\n",
       "      <td>standardS</td>\n",
       "    </tr>\n",
       "    <tr>\n",
       "      <th>29</th>\n",
       "      <td>NaN</td>\n",
       "      <td>NaN</td>\n",
       "      <td>22.717518</td>\n",
       "      <td>NaN</td>\n",
       "      <td>0.525405</td>\n",
       "      <td>0.014743</td>\n",
       "      <td>NaN</td>\n",
       "      <td>NaN</td>\n",
       "      <td>0.020000</td>\n",
       "      <td>NaN</td>\n",
       "      <td>MNIST</td>\n",
       "      <td>AE</td>\n",
       "      <td>standard</td>\n",
       "    </tr>\n",
       "    <tr>\n",
       "      <th>30</th>\n",
       "      <td>NaN</td>\n",
       "      <td>0.370078</td>\n",
       "      <td>28.353776</td>\n",
       "      <td>NaN</td>\n",
       "      <td>0.544533</td>\n",
       "      <td>0.175034</td>\n",
       "      <td>0.872117</td>\n",
       "      <td>NaN</td>\n",
       "      <td>0.050000</td>\n",
       "      <td>NaN</td>\n",
       "      <td>3DS</td>\n",
       "      <td>AE</td>\n",
       "      <td>v121</td>\n",
       "    </tr>\n",
       "    <tr>\n",
       "      <th>31</th>\n",
       "      <td>NaN</td>\n",
       "      <td>NaN</td>\n",
       "      <td>39.864535</td>\n",
       "      <td>NaN</td>\n",
       "      <td>0.506386</td>\n",
       "      <td>0.048469</td>\n",
       "      <td>NaN</td>\n",
       "      <td>NaN</td>\n",
       "      <td>0.052000</td>\n",
       "      <td>NaN</td>\n",
       "      <td>MNIST</td>\n",
       "      <td>BetaVAE</td>\n",
       "      <td>standardS</td>\n",
       "    </tr>\n",
       "    <tr>\n",
       "      <th>32</th>\n",
       "      <td>NaN</td>\n",
       "      <td>NaN</td>\n",
       "      <td>30.184870</td>\n",
       "      <td>NaN</td>\n",
       "      <td>0.489149</td>\n",
       "      <td>0.126314</td>\n",
       "      <td>NaN</td>\n",
       "      <td>NaN</td>\n",
       "      <td>0.002000</td>\n",
       "      <td>NaN</td>\n",
       "      <td>MNIST</td>\n",
       "      <td>BetaVAE</td>\n",
       "      <td>standard</td>\n",
       "    </tr>\n",
       "  </tbody>\n",
       "</table>\n",
       "</div>"
      ],
      "text/plain": [
       "           CAT       DCI        FID       IMQ       IRS       MIG    ModExp  \\\n",
       "0   -56.818623       NaN  28.780144  0.018545  0.694465  0.042998       NaN   \n",
       "1  -163.742264  0.819014  30.991769  0.012457  0.641158  0.385582  0.930223   \n",
       "2  -108.748917       NaN  23.357188  0.013519  0.509226  0.050385       NaN   \n",
       "3  -100.753990       NaN  23.411017  0.012398  0.524709  0.001706       NaN   \n",
       "4   -57.079391       NaN  22.838230  0.013017  0.516027  0.008658       NaN   \n",
       "5   -96.858383       NaN  21.827783  0.011469  0.466371  0.007777       NaN   \n",
       "6   -88.436607       NaN  23.470231  0.013661  0.580276  0.022948       NaN   \n",
       "7  -103.739120       NaN  22.367383  0.011744  0.505433  0.008245       NaN   \n",
       "8   -48.296021       NaN  28.713507  0.017033  0.657263  0.049121       NaN   \n",
       "9   -68.324272       NaN  22.886947  0.011703  0.556465  0.072207       NaN   \n",
       "10 -172.532379  0.851460  28.644042  0.013210  0.729619  0.342135  0.943443   \n",
       "11  -56.818623       NaN  28.780144  0.018545  0.694465  0.042998       NaN   \n",
       "12         NaN       NaN        NaN       NaN       NaN       NaN       NaN   \n",
       "13         NaN       NaN        NaN       NaN       NaN       NaN       NaN   \n",
       "14  -30.417618       NaN  50.131192  0.011500  0.508415  0.100822       NaN   \n",
       "15  -65.323128       NaN  35.970357  0.010736  0.493017  0.048758       NaN   \n",
       "16  -47.645638  0.412325  41.807204  0.010318  0.866912  0.360649  0.824038   \n",
       "17  -45.935398       NaN  28.763475  0.014696  0.653419  0.048041       NaN   \n",
       "18  -77.512527       NaN  28.791191  0.017756  0.684862  0.037042       NaN   \n",
       "19  -42.427330       NaN  28.798369  0.018936  0.633436  0.023126       NaN   \n",
       "20         NaN       NaN  22.858877       NaN       NaN       NaN       NaN   \n",
       "21         NaN  0.959151  30.325523       NaN  0.830507  0.340869  0.975216   \n",
       "22         NaN       NaN  28.636894       NaN  0.555063  0.080150       NaN   \n",
       "23         NaN       NaN  23.175668       NaN  0.505061  0.021068       NaN   \n",
       "24         NaN  0.959625  30.236795       NaN  0.838192  0.283833  0.976034   \n",
       "25         NaN       NaN  28.575820       NaN  0.654341  0.007335       NaN   \n",
       "26         NaN       NaN  22.371234       NaN  0.574963  0.009698       NaN   \n",
       "27         NaN  0.386966  28.583247       NaN  0.523947  0.159371  0.883021   \n",
       "28         NaN       NaN  28.651501       NaN  0.678239  0.024973       NaN   \n",
       "29         NaN       NaN  22.717518       NaN  0.525405  0.014743       NaN   \n",
       "30         NaN  0.370078  28.353776       NaN  0.544533  0.175034  0.872117   \n",
       "31         NaN       NaN  39.864535       NaN  0.506386  0.048469       NaN   \n",
       "32         NaN       NaN  30.184870       NaN  0.489149  0.126314       NaN   \n",
       "\n",
       "         RBF       SAP      dCOV dataset model_name model_version  \n",
       "0   0.003097  0.014000  0.265934   MNIST       XSAE     standardS  \n",
       "1   0.002005  0.132333  0.329517     3DS       XSAE          v121  \n",
       "2   0.002267  0.044000  0.154872   MNIST       XSAE      standard  \n",
       "3   0.001882  0.038000  0.143742   MNIST      XCSAE      standard  \n",
       "4   0.002075  0.044000  0.075921   MNIST        XAE       uniform  \n",
       "5   0.001978  0.014000  0.053683   MNIST        XAE      multidim  \n",
       "6   0.002178  0.022000  0.136615   MNIST       XSAE       uniform  \n",
       "7   0.002169  0.002000  0.061390   MNIST       XSAE      multidim  \n",
       "8   0.002306  0.018000  0.172199   MNIST        XAE     standardS  \n",
       "9   0.001695  0.006000  0.076834   MNIST        XAE      standard  \n",
       "10  0.002343  0.162000  0.339010     3DS        XAE          v121  \n",
       "11  0.003097  0.014000  0.265934   MNIST       XSAE     standardS  \n",
       "12       NaN       NaN       NaN   MNIST       XSAE      standard  \n",
       "13       NaN       NaN       NaN     3DS       XSAE          v121  \n",
       "14  0.001413  0.056000  0.093780   MNIST       XVAE     standardS  \n",
       "15  0.001462  0.036000  0.053322   MNIST       XVAE      standard  \n",
       "16  0.001279  0.053000  0.040903     3DS       XVAE          v121  \n",
       "17  0.001958  0.014000  0.156416   MNIST       XCAE     standardS  \n",
       "18  0.002994  0.034000  0.350013   MNIST      XCSAE     standardS  \n",
       "19  0.002196  0.008000  0.230804   MNIST    BaseSAE     standardS  \n",
       "20       NaN       NaN       NaN   MNIST    BaseSAE      standard  \n",
       "21       NaN  0.131333       NaN     3DS    BaseSAE          v121  \n",
       "22       NaN  0.026000       NaN   MNIST       RSAE     standardS  \n",
       "23       NaN  0.002000       NaN   MNIST       RSAE      standard  \n",
       "24       NaN  0.103667       NaN     3DS       RSAE          v121  \n",
       "25       NaN  0.086000       NaN   MNIST        RAE     standardS  \n",
       "26       NaN  0.008000       NaN   MNIST        RAE      standard  \n",
       "27       NaN  0.077333       NaN     3DS        RAE          v121  \n",
       "28       NaN  0.010000       NaN   MNIST         AE     standardS  \n",
       "29       NaN  0.020000       NaN   MNIST         AE      standard  \n",
       "30       NaN  0.050000       NaN     3DS         AE          v121  \n",
       "31       NaN  0.052000       NaN   MNIST    BetaVAE     standardS  \n",
       "32       NaN  0.002000       NaN   MNIST    BetaVAE      standard  "
      ]
     },
     "execution_count": 42,
     "metadata": {},
     "output_type": "execute_result"
    }
   ],
   "source": [
    "full_df"
   ]
  },
  {
   "cell_type": "markdown",
   "metadata": {},
   "source": [
    "## Vector datasets"
   ]
  },
  {
   "cell_type": "code",
   "execution_count": 42,
   "metadata": {},
   "outputs": [],
   "source": [
    "#load all scores and save them in lists \n",
    "#extract relevan numbers from the lists and form a df\n",
    "# plot df with seaborn\n",
    "data_versions = [\"standard\",\"discrete\",\"continuous\",\"big\"]\n",
    "model_names = [\"VecESAE\",\"VecSAE\",\"VecVAE\",\"VecRSAE\",\"VecRAE\",\"VecAE\"]\n",
    "\n",
    "model_versions = [[\"standard\"], [\"standard\", \"full\"], [\"standard\"], [\"standard\",\"full\"], [\"standard\"], [\"standard\"]]\n",
    "\n",
    "model_params=[]\n",
    "for data_v in data_versions:\n",
    "    for i,model_n in enumerate(model_names): \n",
    "        for model_v in model_versions[i]:\n",
    "            _params = {\"model_name\":model_n,\n",
    "                       \"model_version\":model_v,\n",
    "                       \"data\":\"SynthVec\",\n",
    "                       \"data_version\":data_v}\n",
    "            model_params.append(_params)"
   ]
  },
  {
   "cell_type": "code",
   "execution_count": 43,
   "metadata": {
    "scrolled": true
   },
   "outputs": [
    {
     "name": "stdout",
     "output_type": "stream",
     "text": [
      "----------Opening SynthVec dataset version standard / train----------\n",
      "Files already there. Proceed to reading.\n",
      "Loading generated data.\n",
      "Loading metadata\n",
      "Reading quantiles file\n",
      "Dataset loaded.\n",
      "----------Opening SynthVec dataset version standard / test----------\n",
      "Files already there. Proceed to reading.\n",
      "Loading generated data.\n",
      "Loading metadata\n",
      "Reading quantiles file\n",
      "Dataset loaded.\n",
      "VecESAE model hanlder loaded.\n",
      "----------Opening SynthVec dataset version standard / train----------\n",
      "Files already there. Proceed to reading.\n",
      "Loading generated data.\n",
      "Loading metadata\n",
      "Reading quantiles file\n",
      "Dataset loaded.\n",
      "----------Opening SynthVec dataset version standard / test----------\n",
      "Files already there. Proceed to reading.\n",
      "Loading generated data.\n",
      "Loading metadata\n",
      "Reading quantiles file\n",
      "Dataset loaded.\n",
      "VecSAE model hanlder loaded.\n",
      "configs/models/VecSAE/full.yaml\n",
      "----------Opening SynthVec dataset version standard / train----------\n",
      "Files already there. Proceed to reading.\n",
      "Loading generated data.\n",
      "Loading metadata\n",
      "Reading quantiles file\n",
      "Dataset loaded.\n",
      "----------Opening SynthVec dataset version standard / test----------\n",
      "Files already there. Proceed to reading.\n",
      "Loading generated data.\n",
      "Loading metadata\n",
      "Reading quantiles file\n",
      "Dataset loaded.\n",
      "VecSAE model hanlder loaded.\n",
      "----------Opening SynthVec dataset version standard / train----------\n",
      "Files already there. Proceed to reading.\n",
      "Loading generated data.\n",
      "Loading metadata\n",
      "Reading quantiles file\n",
      "Dataset loaded.\n",
      "----------Opening SynthVec dataset version standard / test----------\n",
      "Files already there. Proceed to reading.\n",
      "Loading generated data.\n",
      "Loading metadata\n",
      "Reading quantiles file\n",
      "Dataset loaded.\n",
      "VecVAE model hanlder loaded.\n",
      "----------Opening SynthVec dataset version standard / train----------\n",
      "Files already there. Proceed to reading.\n",
      "Loading generated data.\n",
      "Loading metadata\n",
      "Reading quantiles file\n",
      "Dataset loaded.\n",
      "----------Opening SynthVec dataset version standard / test----------\n",
      "Files already there. Proceed to reading.\n",
      "Loading generated data.\n",
      "Loading metadata\n",
      "Reading quantiles file\n",
      "Dataset loaded.\n",
      "VecRSAE model hanlder loaded.\n",
      "configs/models/VecRSAE/full.yaml\n",
      "----------Opening SynthVec dataset version standard / train----------\n",
      "Files already there. Proceed to reading.\n",
      "Loading generated data.\n",
      "Loading metadata\n",
      "Reading quantiles file\n",
      "Dataset loaded.\n",
      "----------Opening SynthVec dataset version standard / test----------\n",
      "Files already there. Proceed to reading.\n",
      "Loading generated data.\n",
      "Loading metadata\n",
      "Reading quantiles file\n",
      "Dataset loaded.\n",
      "VecRSAE model hanlder loaded.\n",
      "----------Opening SynthVec dataset version standard / train----------\n",
      "Files already there. Proceed to reading.\n",
      "Loading generated data.\n",
      "Loading metadata\n",
      "Reading quantiles file\n",
      "Dataset loaded.\n",
      "----------Opening SynthVec dataset version standard / test----------\n",
      "Files already there. Proceed to reading.\n",
      "Loading generated data.\n",
      "Loading metadata\n",
      "Reading quantiles file\n",
      "Dataset loaded.\n",
      "VecRAE model hanlder loaded.\n",
      "----------Opening SynthVec dataset version standard / train----------\n",
      "Files already there. Proceed to reading.\n",
      "Loading generated data.\n",
      "Loading metadata\n",
      "Reading quantiles file\n",
      "Dataset loaded.\n",
      "----------Opening SynthVec dataset version standard / test----------\n",
      "Files already there. Proceed to reading.\n",
      "Loading generated data.\n",
      "Loading metadata\n",
      "Reading quantiles file\n",
      "Dataset loaded.\n",
      "VecAE model hanlder loaded.\n",
      "----------Opening SynthVec dataset version discrete / train----------\n",
      "Files already there. Proceed to reading.\n",
      "Loading generated data.\n",
      "Loading metadata\n",
      "Reading quantiles file\n",
      "Dataset loaded.\n",
      "----------Opening SynthVec dataset version discrete / test----------\n",
      "Files already there. Proceed to reading.\n",
      "Loading generated data.\n",
      "Loading metadata\n",
      "Reading quantiles file\n",
      "Dataset loaded.\n",
      "VecESAE model hanlder loaded.\n",
      "----------Opening SynthVec dataset version discrete / train----------\n",
      "Files already there. Proceed to reading.\n",
      "Loading generated data.\n",
      "Loading metadata\n",
      "Reading quantiles file\n",
      "Dataset loaded.\n",
      "----------Opening SynthVec dataset version discrete / test----------\n",
      "Files already there. Proceed to reading.\n",
      "Loading generated data.\n",
      "Loading metadata\n",
      "Reading quantiles file\n",
      "Dataset loaded.\n",
      "VecSAE model hanlder loaded.\n",
      "configs/models/VecSAE/full.yaml\n",
      "----------Opening SynthVec dataset version discrete / train----------\n",
      "Files already there. Proceed to reading.\n",
      "Loading generated data.\n",
      "Loading metadata\n",
      "Reading quantiles file\n",
      "Dataset loaded.\n",
      "----------Opening SynthVec dataset version discrete / test----------\n",
      "Files already there. Proceed to reading.\n",
      "Loading generated data.\n",
      "Loading metadata\n",
      "Reading quantiles file\n",
      "Dataset loaded.\n",
      "VecSAE model hanlder loaded.\n",
      "----------Opening SynthVec dataset version discrete / train----------\n",
      "Files already there. Proceed to reading.\n",
      "Loading generated data.\n",
      "Loading metadata\n",
      "Reading quantiles file\n",
      "Dataset loaded.\n",
      "----------Opening SynthVec dataset version discrete / test----------\n",
      "Files already there. Proceed to reading.\n",
      "Loading generated data.\n",
      "Loading metadata\n",
      "Reading quantiles file\n",
      "Dataset loaded.\n",
      "VecVAE model hanlder loaded.\n",
      "----------Opening SynthVec dataset version discrete / train----------\n",
      "Files already there. Proceed to reading.\n",
      "Loading generated data.\n",
      "Loading metadata\n",
      "Reading quantiles file\n",
      "Dataset loaded.\n",
      "----------Opening SynthVec dataset version discrete / test----------\n",
      "Files already there. Proceed to reading.\n",
      "Loading generated data.\n",
      "Loading metadata\n",
      "Reading quantiles file\n",
      "Dataset loaded.\n",
      "VecRSAE model hanlder loaded.\n",
      "configs/models/VecRSAE/full.yaml\n",
      "----------Opening SynthVec dataset version discrete / train----------\n",
      "Files already there. Proceed to reading.\n",
      "Loading generated data.\n",
      "Loading metadata\n",
      "Reading quantiles file\n",
      "Dataset loaded.\n",
      "----------Opening SynthVec dataset version discrete / test----------\n",
      "Files already there. Proceed to reading.\n",
      "Loading generated data.\n",
      "Loading metadata\n",
      "Reading quantiles file\n",
      "Dataset loaded.\n",
      "VecRSAE model hanlder loaded.\n",
      "----------Opening SynthVec dataset version discrete / train----------\n",
      "Files already there. Proceed to reading.\n",
      "Loading generated data.\n",
      "Loading metadata\n",
      "Reading quantiles file\n",
      "Dataset loaded.\n",
      "----------Opening SynthVec dataset version discrete / test----------\n",
      "Files already there. Proceed to reading.\n",
      "Loading generated data.\n",
      "Loading metadata\n",
      "Reading quantiles file\n",
      "Dataset loaded.\n",
      "VecRAE model hanlder loaded.\n",
      "----------Opening SynthVec dataset version discrete / train----------\n",
      "Files already there. Proceed to reading.\n",
      "Loading generated data.\n",
      "Loading metadata\n",
      "Reading quantiles file\n",
      "Dataset loaded.\n",
      "----------Opening SynthVec dataset version discrete / test----------\n",
      "Files already there. Proceed to reading.\n",
      "Loading generated data.\n",
      "Loading metadata\n",
      "Reading quantiles file\n",
      "Dataset loaded.\n",
      "VecAE model hanlder loaded.\n",
      "----------Opening SynthVec dataset version continuous / train----------\n",
      "Files already there. Proceed to reading.\n",
      "Loading generated data.\n",
      "Loading metadata\n",
      "Reading quantiles file\n",
      "Dataset loaded.\n",
      "----------Opening SynthVec dataset version continuous / test----------\n",
      "Files already there. Proceed to reading.\n",
      "Loading generated data.\n",
      "Loading metadata\n",
      "Reading quantiles file\n",
      "Dataset loaded.\n",
      "VecESAE model hanlder loaded.\n",
      "----------Opening SynthVec dataset version continuous / train----------\n",
      "Files already there. Proceed to reading.\n",
      "Loading generated data.\n",
      "Loading metadata\n",
      "Reading quantiles file\n",
      "Dataset loaded.\n",
      "----------Opening SynthVec dataset version continuous / test----------\n",
      "Files already there. Proceed to reading.\n",
      "Loading generated data.\n",
      "Loading metadata\n",
      "Reading quantiles file\n",
      "Dataset loaded.\n",
      "VecSAE model hanlder loaded.\n",
      "configs/models/VecSAE/full.yaml\n",
      "----------Opening SynthVec dataset version continuous / train----------\n",
      "Files already there. Proceed to reading.\n",
      "Loading generated data.\n",
      "Loading metadata\n",
      "Reading quantiles file\n",
      "Dataset loaded.\n",
      "----------Opening SynthVec dataset version continuous / test----------\n",
      "Files already there. Proceed to reading.\n",
      "Loading generated data.\n",
      "Loading metadata\n",
      "Reading quantiles file\n",
      "Dataset loaded.\n",
      "VecSAE model hanlder loaded.\n",
      "----------Opening SynthVec dataset version continuous / train----------\n",
      "Files already there. Proceed to reading.\n",
      "Loading generated data.\n",
      "Loading metadata\n",
      "Reading quantiles file\n",
      "Dataset loaded.\n",
      "----------Opening SynthVec dataset version continuous / test----------\n",
      "Files already there. Proceed to reading.\n",
      "Loading generated data.\n",
      "Loading metadata\n",
      "Reading quantiles file\n",
      "Dataset loaded.\n"
     ]
    },
    {
     "name": "stdout",
     "output_type": "stream",
     "text": [
      "VecVAE model hanlder loaded.\n",
      "----------Opening SynthVec dataset version continuous / train----------\n",
      "Files already there. Proceed to reading.\n",
      "Loading generated data.\n",
      "Loading metadata\n",
      "Reading quantiles file\n",
      "Dataset loaded.\n",
      "----------Opening SynthVec dataset version continuous / test----------\n",
      "Files already there. Proceed to reading.\n",
      "Loading generated data.\n",
      "Loading metadata\n",
      "Reading quantiles file\n",
      "Dataset loaded.\n",
      "VecRSAE model hanlder loaded.\n",
      "configs/models/VecRSAE/full.yaml\n",
      "----------Opening SynthVec dataset version continuous / train----------\n",
      "Files already there. Proceed to reading.\n",
      "Loading generated data.\n",
      "Loading metadata\n",
      "Reading quantiles file\n",
      "Dataset loaded.\n",
      "----------Opening SynthVec dataset version continuous / test----------\n",
      "Files already there. Proceed to reading.\n",
      "Loading generated data.\n",
      "Loading metadata\n",
      "Reading quantiles file\n",
      "Dataset loaded.\n",
      "VecRSAE model hanlder loaded.\n",
      "----------Opening SynthVec dataset version continuous / train----------\n",
      "Files already there. Proceed to reading.\n",
      "Loading generated data.\n",
      "Loading metadata\n",
      "Reading quantiles file\n",
      "Dataset loaded.\n",
      "----------Opening SynthVec dataset version continuous / test----------\n",
      "Files already there. Proceed to reading.\n",
      "Loading generated data.\n",
      "Loading metadata\n",
      "Reading quantiles file\n",
      "Dataset loaded.\n",
      "VecRAE model hanlder loaded.\n",
      "----------Opening SynthVec dataset version continuous / train----------\n",
      "Files already there. Proceed to reading.\n",
      "Loading generated data.\n",
      "Loading metadata\n",
      "Reading quantiles file\n",
      "Dataset loaded.\n",
      "----------Opening SynthVec dataset version continuous / test----------\n",
      "Files already there. Proceed to reading.\n",
      "Loading generated data.\n",
      "Loading metadata\n",
      "Reading quantiles file\n",
      "Dataset loaded.\n",
      "VecAE model hanlder loaded.\n",
      "----------Opening SynthVec dataset version big / train----------\n",
      "Files already there. Proceed to reading.\n",
      "Loading generated data.\n",
      "Loading metadata\n",
      "Reading quantiles file\n",
      "Dataset loaded.\n",
      "----------Opening SynthVec dataset version big / test----------\n",
      "Files already there. Proceed to reading.\n",
      "Loading generated data.\n",
      "Loading metadata\n",
      "Reading quantiles file\n",
      "Dataset loaded.\n",
      "VecESAE model hanlder loaded.\n",
      "----------Opening SynthVec dataset version big / train----------\n",
      "Files already there. Proceed to reading.\n",
      "Loading generated data.\n",
      "Loading metadata\n",
      "Reading quantiles file\n",
      "Dataset loaded.\n",
      "----------Opening SynthVec dataset version big / test----------\n",
      "Files already there. Proceed to reading.\n",
      "Loading generated data.\n",
      "Loading metadata\n",
      "Reading quantiles file\n",
      "Dataset loaded.\n",
      "VecSAE model hanlder loaded.\n",
      "configs/models/VecSAE/full.yaml\n",
      "----------Opening SynthVec dataset version big / train----------\n",
      "Files already there. Proceed to reading.\n",
      "Loading generated data.\n",
      "Loading metadata\n",
      "Reading quantiles file\n",
      "Dataset loaded.\n",
      "----------Opening SynthVec dataset version big / test----------\n",
      "Files already there. Proceed to reading.\n",
      "Loading generated data.\n",
      "Loading metadata\n",
      "Reading quantiles file\n",
      "Dataset loaded.\n",
      "VecSAE model hanlder loaded.\n",
      "----------Opening SynthVec dataset version big / train----------\n",
      "Files already there. Proceed to reading.\n",
      "Loading generated data.\n",
      "Loading metadata\n",
      "Reading quantiles file\n",
      "Dataset loaded.\n",
      "----------Opening SynthVec dataset version big / test----------\n",
      "Files already there. Proceed to reading.\n",
      "Loading generated data.\n",
      "Loading metadata\n",
      "Reading quantiles file\n",
      "Dataset loaded.\n",
      "VecVAE model hanlder loaded.\n",
      "----------Opening SynthVec dataset version big / train----------\n",
      "Files already there. Proceed to reading.\n",
      "Loading generated data.\n",
      "Loading metadata\n",
      "Reading quantiles file\n",
      "Dataset loaded.\n",
      "----------Opening SynthVec dataset version big / test----------\n",
      "Files already there. Proceed to reading.\n",
      "Loading generated data.\n",
      "Loading metadata\n",
      "Reading quantiles file\n",
      "Dataset loaded.\n",
      "VecRSAE model hanlder loaded.\n",
      "configs/models/VecRSAE/full.yaml\n",
      "----------Opening SynthVec dataset version big / train----------\n",
      "Files already there. Proceed to reading.\n",
      "Loading generated data.\n",
      "Loading metadata\n",
      "Reading quantiles file\n",
      "Dataset loaded.\n",
      "----------Opening SynthVec dataset version big / test----------\n",
      "Files already there. Proceed to reading.\n",
      "Loading generated data.\n",
      "Loading metadata\n",
      "Reading quantiles file\n",
      "Dataset loaded.\n",
      "VecRSAE model hanlder loaded.\n",
      "----------Opening SynthVec dataset version big / train----------\n",
      "Files already there. Proceed to reading.\n",
      "Loading generated data.\n",
      "Loading metadata\n",
      "Reading quantiles file\n",
      "Dataset loaded.\n",
      "----------Opening SynthVec dataset version big / test----------\n",
      "Files already there. Proceed to reading.\n",
      "Loading generated data.\n",
      "Loading metadata\n",
      "Reading quantiles file\n",
      "Dataset loaded.\n",
      "VecRAE model hanlder loaded.\n",
      "----------Opening SynthVec dataset version big / train----------\n",
      "Files already there. Proceed to reading.\n",
      "Loading generated data.\n",
      "Loading metadata\n",
      "Reading quantiles file\n",
      "Dataset loaded.\n",
      "----------Opening SynthVec dataset version big / test----------\n",
      "Files already there. Proceed to reading.\n",
      "Loading generated data.\n",
      "Loading metadata\n",
      "Reading quantiles file\n",
      "Dataset loaded.\n",
      "VecAE model hanlder loaded.\n"
     ]
    }
   ],
   "source": [
    "# collect the handlers\n",
    "scores=[]\n",
    "for params in model_params:\n",
    "        handler = (VectorModelHandler.from_config(**params, verbose=False))\n",
    "        handler.config[\"logging_params\"][\"save_dir\"] = \"./logs\"\n",
    "        scores.append(handler.load_scores(name=\"scoring_noises\"))"
   ]
  },
  {
   "cell_type": "code",
   "execution_count": 44,
   "metadata": {},
   "outputs": [],
   "source": [
    "# fill the dataframe\n",
    "scores_df = pd.DataFrame()\n",
    "scores_df[\"model_name\"] = [params[\"model_name\"] for params in model_params]\n",
    "scores_df[\"model_version\"] = [params[\"model_version\"] for params in model_params]\n",
    "scores_df[\"data_version\"] = [params[\"data_version\"] for params in model_params]\n",
    "for i,score_set in enumerate(scores):\n",
    "    try: \n",
    "        for k,v in score_set.items():\n",
    "            scores_df.loc[i,k] = v\n",
    "    except AttributeError: \n",
    "        continue"
   ]
  },
  {
   "cell_type": "code",
   "execution_count": 45,
   "metadata": {
    "scrolled": true
   },
   "outputs": [],
   "source": [
    "scores_df.to_csv(\"VecScoresNoises.csv\")"
   ]
  },
  {
   "cell_type": "code",
   "execution_count": 54,
   "metadata": {
    "scrolled": true
   },
   "outputs": [],
   "source": [
    "scores_df = pd.read_csv(\"VecScoresNoises.csv\", index_col=0)"
   ]
  },
  {
   "cell_type": "markdown",
   "metadata": {},
   "source": [
    "## Visualise scores"
   ]
  },
  {
   "cell_type": "code",
   "execution_count": 32,
   "metadata": {
    "scrolled": true
   },
   "outputs": [
    {
     "data": {
      "text/html": [
       "<div>\n",
       "<style scoped>\n",
       "    .dataframe tbody tr th:only-of-type {\n",
       "        vertical-align: middle;\n",
       "    }\n",
       "\n",
       "    .dataframe tbody tr th {\n",
       "        vertical-align: top;\n",
       "    }\n",
       "\n",
       "    .dataframe thead th {\n",
       "        text-align: right;\n",
       "    }\n",
       "</style>\n",
       "<table border=\"1\" class=\"dataframe\">\n",
       "  <thead>\n",
       "    <tr style=\"text-align: right;\">\n",
       "      <th></th>\n",
       "      <th>CAT</th>\n",
       "      <th>DCI</th>\n",
       "      <th>FID</th>\n",
       "      <th>IMQ</th>\n",
       "      <th>IRS</th>\n",
       "      <th>MIG</th>\n",
       "      <th>ModExp</th>\n",
       "      <th>RBF</th>\n",
       "      <th>SAP</th>\n",
       "      <th>dCOV</th>\n",
       "      <th>dataset</th>\n",
       "      <th>model_name</th>\n",
       "      <th>model_version</th>\n",
       "    </tr>\n",
       "  </thead>\n",
       "  <tbody>\n",
       "    <tr>\n",
       "      <th>0</th>\n",
       "      <td>-163.742264</td>\n",
       "      <td>0.819014</td>\n",
       "      <td>30.991769</td>\n",
       "      <td>0.012457</td>\n",
       "      <td>0.641158</td>\n",
       "      <td>0.385582</td>\n",
       "      <td>0.930223</td>\n",
       "      <td>0.002005</td>\n",
       "      <td>0.132333</td>\n",
       "      <td>0.329517</td>\n",
       "      <td>3DS</td>\n",
       "      <td>XSAE</td>\n",
       "      <td>v121</td>\n",
       "    </tr>\n",
       "    <tr>\n",
       "      <th>1</th>\n",
       "      <td>-108.748917</td>\n",
       "      <td>NaN</td>\n",
       "      <td>23.357188</td>\n",
       "      <td>0.013519</td>\n",
       "      <td>0.509226</td>\n",
       "      <td>0.050385</td>\n",
       "      <td>NaN</td>\n",
       "      <td>0.002267</td>\n",
       "      <td>0.044000</td>\n",
       "      <td>0.154872</td>\n",
       "      <td>MNIST</td>\n",
       "      <td>XSAE</td>\n",
       "      <td>standard</td>\n",
       "    </tr>\n",
       "    <tr>\n",
       "      <th>2</th>\n",
       "      <td>-100.753990</td>\n",
       "      <td>NaN</td>\n",
       "      <td>23.411017</td>\n",
       "      <td>0.012398</td>\n",
       "      <td>0.524709</td>\n",
       "      <td>0.001706</td>\n",
       "      <td>NaN</td>\n",
       "      <td>0.001882</td>\n",
       "      <td>0.038000</td>\n",
       "      <td>0.143742</td>\n",
       "      <td>MNIST</td>\n",
       "      <td>XCSAE</td>\n",
       "      <td>standard</td>\n",
       "    </tr>\n",
       "    <tr>\n",
       "      <th>3</th>\n",
       "      <td>-57.079391</td>\n",
       "      <td>NaN</td>\n",
       "      <td>22.838230</td>\n",
       "      <td>0.013017</td>\n",
       "      <td>0.516027</td>\n",
       "      <td>0.008658</td>\n",
       "      <td>NaN</td>\n",
       "      <td>0.002075</td>\n",
       "      <td>0.044000</td>\n",
       "      <td>0.075921</td>\n",
       "      <td>MNIST</td>\n",
       "      <td>XAE</td>\n",
       "      <td>uniform</td>\n",
       "    </tr>\n",
       "    <tr>\n",
       "      <th>4</th>\n",
       "      <td>-96.858383</td>\n",
       "      <td>NaN</td>\n",
       "      <td>21.827783</td>\n",
       "      <td>0.011469</td>\n",
       "      <td>0.466371</td>\n",
       "      <td>0.007777</td>\n",
       "      <td>NaN</td>\n",
       "      <td>0.001978</td>\n",
       "      <td>0.014000</td>\n",
       "      <td>0.053683</td>\n",
       "      <td>MNIST</td>\n",
       "      <td>XAE</td>\n",
       "      <td>multidim</td>\n",
       "    </tr>\n",
       "  </tbody>\n",
       "</table>\n",
       "</div>"
      ],
      "text/plain": [
       "          CAT       DCI        FID       IMQ       IRS       MIG    ModExp  \\\n",
       "0 -163.742264  0.819014  30.991769  0.012457  0.641158  0.385582  0.930223   \n",
       "1 -108.748917       NaN  23.357188  0.013519  0.509226  0.050385       NaN   \n",
       "2 -100.753990       NaN  23.411017  0.012398  0.524709  0.001706       NaN   \n",
       "3  -57.079391       NaN  22.838230  0.013017  0.516027  0.008658       NaN   \n",
       "4  -96.858383       NaN  21.827783  0.011469  0.466371  0.007777       NaN   \n",
       "\n",
       "        RBF       SAP      dCOV dataset model_name model_version  \n",
       "0  0.002005  0.132333  0.329517     3DS       XSAE          v121  \n",
       "1  0.002267  0.044000  0.154872   MNIST       XSAE      standard  \n",
       "2  0.001882  0.038000  0.143742   MNIST      XCSAE      standard  \n",
       "3  0.002075  0.044000  0.075921   MNIST        XAE       uniform  \n",
       "4  0.001978  0.014000  0.053683   MNIST        XAE      multidim  "
      ]
     },
     "execution_count": 32,
     "metadata": {},
     "output_type": "execute_result"
    }
   ],
   "source": [
    "full_df.head()"
   ]
  },
  {
   "cell_type": "code",
   "execution_count": 44,
   "metadata": {},
   "outputs": [],
   "source": [
    "def plot_metrics(dataframe, metric_name, **kwargs):\n",
    "    \"\"\"Plots the selected metric against all the models that satisfy the specified requirement. \n",
    "    To specify a requirement pass a 'key' argument and a 'value' argument. \n",
    "    To specify a group pass a group_key argument\"\"\"\n",
    "    fig, ax = plt.subplots(figsize=kwargs.get('figsize',(10,8)))\n",
    "    key=kwargs.get('key');value=kwargs.get('value')\n",
    "    group_key=kwargs.get('group_key')\n",
    "    # filtering the dataframe based on model_version attribute\n",
    "    df = dataframe.loc[dataframe[key] == value]\n",
    "    ordered_names = df.sort_values(metric_name)[\"model_name\"] # ordering for ascending metric value\n",
    "    group_names = {i:v for  i,v in enumerate(df[group_key].unique())}\n",
    "    group_codes = {v:i for i,v in group_names.items()}\n",
    "    colors = {n:f'C{n+1}' for n in range(len(group_names))}\n",
    "    tps = set()\n",
    "      \n",
    "    j = 0 \n",
    "    # adding all the bars (one by one)\n",
    "    for i,t in zip(ordered_names.index, ordered_names):\n",
    "        score = df.loc[i,metric_name]\n",
    "        group = df.loc[i,group_key]\n",
    "        c = colors[group_codes[group]]\n",
    "        plt.bar(j, score, color=c, edgecolor='k', linewidth=2)\n",
    "        tps.add(group_codes[group])\n",
    "        j+=1\n",
    "    \n",
    "    legend_elements = [Patch(facecolor=colors[name], label=group_names[name]) for name in tps]\n",
    "    legend = plt.legend(handles=legend_elements, title=key)\n",
    "    plt.xticks(np.arange(len(ordered_names)), ordered_names, rotation='vertical')\n",
    "    plt.ylabel(f'{metric_name} Score')\n",
    "    plt.title(f'Reconstruction Quality on {value}')\n",
    "    plt.grid(linestyle='--',axis='y')\n",
    "    plt.tight_layout()"
   ]
  },
  {
   "cell_type": "code",
   "execution_count": 45,
   "metadata": {
    "scrolled": false
   },
   "outputs": [
    {
     "data": {
      "image/png": "[encoded data removed]",
      "text/plain": [
       "<Figure size 576x432 with 1 Axes>"
      ]
     },
     "metadata": {
      "needs_background": "light"
     },
     "output_type": "display_data"
    },
    {
     "data": {
      "image/png": "[encoded data removed]",
      "text/plain": [
       "<Figure size 432x432 with 1 Axes>"
      ]
     },
     "metadata": {
      "needs_background": "light"
     },
     "output_type": "display_data"
    }
   ],
   "source": [
    "fig = plot_metrics(full_df, metric_name=\"FID\", key=\"dataset\",value=\"MNIST\", group_key=\"model_version\",figsize=(8,6))\n",
    "fig = plot_metrics(full_df, metric_name=\"FID\", key=\"dataset\",value=\"3DS\", group_key=\"model_version\",figsize=(6,6))"
   ]
  },
  {
   "cell_type": "code",
   "execution_count": 47,
   "metadata": {
    "scrolled": true
   },
   "outputs": [
    {
     "data": {
      "image/png": "[encoded data removed]",
      "text/plain": [
       "<Figure size 576x576 with 1 Axes>"
      ]
     },
     "metadata": {
      "needs_background": "light"
     },
     "output_type": "display_data"
    },
    {
     "data": {
      "image/png": "[encoded data removed]",
      "text/plain": [
       "<Figure size 432x432 with 1 Axes>"
      ]
     },
     "metadata": {
      "needs_background": "light"
     },
     "output_type": "display_data"
    }
   ],
   "source": [
    "fig = plot_metrics(full_df, metric_name=\"IRS\", key=\"dataset\",value=\"MNIST\", group_key=\"model_version\",figsize=(8,8))\n",
    "fig = plot_metrics(full_df, metric_name=\"IRS\", key=\"dataset\",value=\"3DS\", group_key=\"model_name\",figsize=(6,6))"
   ]
  },
  {
   "cell_type": "code",
   "execution_count": null,
   "metadata": {},
   "outputs": [],
   "source": [
    "#TODO: adjust plotting for visual datasets"
   ]
  },
  {
   "cell_type": "code",
   "execution_count": 19,
   "metadata": {
    "scrolled": true
   },
   "outputs": [
    {
     "data": {
      "image/png": "[encoded data removed]",
      "text/plain": [
       "<Figure size 576x432 with 1 Axes>"
      ]
     },
     "metadata": {
      "needs_background": "light"
     },
     "output_type": "display_data"
    },
    {
     "data": {
      "image/png": "[encoded data removed]",
      "text/plain": [
       "<Figure size 576x432 with 1 Axes>"
      ]
     },
     "metadata": {
      "needs_background": "light"
     },
     "output_type": "display_data"
    },
    {
     "data": {
      "image/png": "[encoded data removed]",
      "text/plain": [
       "<Figure size 576x432 with 1 Axes>"
      ]
     },
     "metadata": {
      "needs_background": "light"
     },
     "output_type": "display_data"
    },
    {
     "data": {
      "image/png": "[encoded data removed]",
      "text/plain": [
       "<Figure size 576x432 with 1 Axes>"
      ]
     },
     "metadata": {
      "needs_background": "light"
     },
     "output_type": "display_data"
    },
    {
     "data": {
      "image/png": "[encoded data removed]",
      "text/plain": [
       "<Figure size 576x432 with 1 Axes>"
      ]
     },
     "metadata": {
      "needs_background": "light"
     },
     "output_type": "display_data"
    },
    {
     "data": {
      "image/png": "[encoded data removed]",
      "text/plain": [
       "<Figure size 576x432 with 1 Axes>"
      ]
     },
     "metadata": {
      "needs_background": "light"
     },
     "output_type": "display_data"
    },
    {
     "data": {
      "image/png": "[encoded data removed]",
      "text/plain": [
       "<Figure size 576x432 with 1 Axes>"
      ]
     },
     "metadata": {
      "needs_background": "light"
     },
     "output_type": "display_data"
    }
   ],
   "source": [
    "for k in full_df.columns[1:8]: # disentanglement\n",
    "    fig = plt.figure(figsize=(8,6))\n",
    "    sns.boxplot(x='model_name',y=k,data=full_df,\n",
    "                palette=\"Blues\")"
   ]
  },
  {
   "cell_type": "code",
   "execution_count": 59,
   "metadata": {
    "scrolled": true
   },
   "outputs": [
    {
     "data": {
      "image/png": "[encoded data removed]",
      "text/plain": [
       "<Figure size 576x432 with 1 Axes>"
      ]
     },
     "metadata": {
      "needs_background": "light"
     },
     "output_type": "display_data"
    },
    {
     "data": {
      "image/png": "[encoded data removed]",
      "text/plain": [
       "<Figure size 576x432 with 1 Axes>"
      ]
     },
     "metadata": {
      "needs_background": "light"
     },
     "output_type": "display_data"
    },
    {
     "data": {
      "image/png": "[encoded data removed]",
      "text/plain": [
       "<Figure size 576x432 with 1 Axes>"
      ]
     },
     "metadata": {
      "needs_background": "light"
     },
     "output_type": "display_data"
    },
    {
     "data": {
      "image/png": "[encoded data removed]",
      "text/plain": [
       "<Figure size 576x432 with 1 Axes>"
      ]
     },
     "metadata": {
      "needs_background": "light"
     },
     "output_type": "display_data"
    },
    {
     "data": {
      "image/png": "[encoded data removed]",
      "text/plain": [
       "<Figure size 576x432 with 1 Axes>"
      ]
     },
     "metadata": {
      "needs_background": "light"
     },
     "output_type": "display_data"
    }
   ],
   "source": [
    "for k in scores_df.columns[3:]: # orthogonality\n",
    "    fig = plt.figure(figsize=(8,6))\n",
    "    sns.boxplot(x='data_version',y=k,data=scores_df, palette=\"Greens\")"
   ]
  },
  {
   "cell_type": "code",
   "execution_count": 47,
   "metadata": {
    "scrolled": true
   },
   "outputs": [
    {
     "data": {
      "image/png": "[encoded data removed]",
      "text/plain": [
       "<Figure size 576x432 with 1 Axes>"
      ]
     },
     "metadata": {
      "needs_background": "light"
     },
     "output_type": "display_data"
    },
    {
     "data": {
      "image/png": "[encoded data removed]",
      "text/plain": [
       "<Figure size 576x432 with 1 Axes>"
      ]
     },
     "metadata": {
      "needs_background": "light"
     },
     "output_type": "display_data"
    },
    {
     "data": {
      "image/png": "[encoded data removed]",
      "text/plain": [
       "<Figure size 576x432 with 1 Axes>"
      ]
     },
     "metadata": {
      "needs_background": "light"
     },
     "output_type": "display_data"
    },
    {
     "data": {
      "image/png": "[encoded data removed]",
      "text/plain": [
       "<Figure size 576x432 with 1 Axes>"
      ]
     },
     "metadata": {
      "needs_background": "light"
     },
     "output_type": "display_data"
    },
    {
     "data": {
      "image/png": "[encoded data removed]",
      "text/plain": [
       "<Figure size 576x432 with 1 Axes>"
      ]
     },
     "metadata": {
      "needs_background": "light"
     },
     "output_type": "display_data"
    }
   ],
   "source": [
    "# finally visualising \n",
    "for k in scores_df.columns[3:]: # disentanglement\n",
    "    fig = plt.figure(figsize=(8,6))\n",
    "    sns.boxplot(x='model_name',y=k,data=scores_df, palette=\"Blues\")"
   ]
  },
  {
   "cell_type": "code",
   "execution_count": 57,
   "metadata": {
    "scrolled": true
   },
   "outputs": [
    {
     "data": {
      "image/png": "[encoded data removed]",
      "text/plain": [
       "<Figure size 576x432 with 1 Axes>"
      ]
     },
     "metadata": {
      "needs_background": "light"
     },
     "output_type": "display_data"
    },
    {
     "data": {
      "image/png": "[encoded data removed]",
      "text/plain": [
       "<Figure size 576x432 with 1 Axes>"
      ]
     },
     "metadata": {
      "needs_background": "light"
     },
     "output_type": "display_data"
    },
    {
     "data": {
      "image/png": "[encoded data removed]",
      "text/plain": [
       "<Figure size 576x432 with 1 Axes>"
      ]
     },
     "metadata": {
      "needs_background": "light"
     },
     "output_type": "display_data"
    },
    {
     "data": {
      "image/png": "[encoded data removed]",
      "text/plain": [
       "<Figure size 576x432 with 1 Axes>"
      ]
     },
     "metadata": {
      "needs_background": "light"
     },
     "output_type": "display_data"
    }
   ],
   "source": [
    "# finally visualising \n",
    "for k in scores_df.columns[3:-1]: # disentanglement\n",
    "    fig = plt.figure(figsize=(8,6))\n",
    "    sns.boxplot(x='data_version',y=k,data=scores_df, palette=\"Greens\")"
   ]
  },
  {
   "cell_type": "markdown",
   "metadata": {},
   "source": [
    "# Invariance Scoring"
   ]
  },
  {
   "cell_type": "code",
   "execution_count": 43,
   "metadata": {
    "scrolled": true
   },
   "outputs": [
    {
     "name": "stdout",
     "output_type": "stream",
     "text": [
      "configs/models/XCSAE/standardSE.yaml\n",
      "Initialising schedulers Manager...\n",
      "Causal mode ON\n",
      "Explicit mode ON\n",
      "XCSAE model hanlder loaded.\n",
      "Loading selected checkpoint at logs\\XCSAE\\standardSE_MNIST\\checkpoints/final.ckpt\n",
      "MODEL SUMMARY\n",
      "----------------------------------------------------------------\n",
      "        Layer (type)               Output Shape         Param #\n",
      "================================================================\n",
      "            Conv2d-1           [-1, 32, 28, 28]             320\n",
      "         MaxPool2d-2           [-1, 32, 14, 14]               0\n",
      "              Mish-3           [-1, 32, 14, 14]               0\n",
      "       BatchNorm2d-4           [-1, 32, 14, 14]              64\n",
      "         ConvBlock-5           [-1, 32, 14, 14]               0\n",
      "            Conv2d-6           [-1, 32, 14, 14]           9,248\n",
      "              Mish-7           [-1, 32, 14, 14]               0\n",
      "       BatchNorm2d-8           [-1, 32, 14, 14]              64\n",
      "         ConvBlock-9           [-1, 32, 14, 14]               0\n",
      "           Conv2d-10           [-1, 32, 14, 14]           9,248\n",
      "        MaxPool2d-11             [-1, 32, 7, 7]               0\n",
      "             Mish-12             [-1, 32, 7, 7]               0\n",
      "      BatchNorm2d-13             [-1, 32, 7, 7]              64\n",
      "        ConvBlock-14             [-1, 32, 7, 7]               0\n",
      "           Conv2d-15             [-1, 32, 7, 7]           9,248\n",
      "             Mish-16             [-1, 32, 7, 7]               0\n",
      "      BatchNorm2d-17             [-1, 32, 7, 7]              64\n",
      "        ConvBlock-18             [-1, 32, 7, 7]               0\n",
      "           Conv2d-19             [-1, 32, 7, 7]           9,248\n",
      "        MaxPool2d-20             [-1, 32, 3, 3]               0\n",
      "             Mish-21             [-1, 32, 3, 3]               0\n",
      "      BatchNorm2d-22             [-1, 32, 3, 3]              64\n",
      "        ConvBlock-23             [-1, 32, 3, 3]               0\n",
      "           Conv2d-24             [-1, 32, 3, 3]           9,248\n",
      "             Mish-25             [-1, 32, 3, 3]               0\n",
      "      BatchNorm2d-26             [-1, 32, 3, 3]              64\n",
      "        ConvBlock-27             [-1, 32, 3, 3]               0\n",
      "          Flatten-28                  [-1, 288]               0\n",
      "        LayerNorm-29                  [-1, 288]             576\n",
      "          ConvNet-30                  [-1, 288]               0\n",
      "           Linear-31                  [-1, 256]          73,984\n",
      "             Mish-32                  [-1, 256]               0\n",
      "           Linear-33                  [-1, 128]          32,896\n",
      "             Mish-34                  [-1, 128]               0\n",
      "           Linear-35                    [-1, 6]             774\n",
      "             Mish-36                    [-1, 6]               0\n",
      "          FCBlock-37                    [-1, 6]               0\n",
      "           Linear-38                   [-1, 10]              20\n",
      "             Mish-39                   [-1, 10]               0\n",
      "           Linear-40                   [-1, 10]             110\n",
      "             Mish-41                   [-1, 10]               0\n",
      "           Linear-42                    [-1, 1]              11\n",
      "             Mish-43                    [-1, 1]               0\n",
      "          FCBlock-44                    [-1, 1]               0\n",
      "          Sigmoid-45                       [-1]               0\n",
      "           Linear-46                   [-1, 10]              30\n",
      "             Mish-47                   [-1, 10]               0\n",
      "           Linear-48                   [-1, 10]             110\n",
      "             Mish-49                   [-1, 10]               0\n",
      "           Linear-50                    [-1, 1]              11\n",
      "             Mish-51                    [-1, 1]               0\n",
      "          FCBlock-52                    [-1, 1]               0\n",
      "          Sigmoid-53                       [-1]               0\n",
      "           Linear-54                   [-1, 10]              40\n",
      "             Mish-55                   [-1, 10]               0\n",
      "           Linear-56                   [-1, 10]             110\n",
      "             Mish-57                   [-1, 10]               0\n",
      "           Linear-58                    [-1, 1]              11\n",
      "             Mish-59                    [-1, 1]               0\n",
      "          FCBlock-60                    [-1, 1]               0\n",
      "          Sigmoid-61                       [-1]               0\n",
      "           Linear-62                   [-1, 10]              50\n",
      "             Mish-63                   [-1, 10]               0\n",
      "           Linear-64                   [-1, 10]             110\n",
      "             Mish-65                   [-1, 10]               0\n",
      "           Linear-66                    [-1, 1]              11\n",
      "             Mish-67                    [-1, 1]               0\n",
      "          FCBlock-68                    [-1, 1]               0\n",
      "          Sigmoid-69                       [-1]               0\n",
      "           Linear-70                   [-1, 10]              60\n",
      "             Mish-71                   [-1, 10]               0\n",
      "           Linear-72                   [-1, 10]             110\n",
      "             Mish-73                   [-1, 10]               0\n",
      "           Linear-74                    [-1, 1]              11\n",
      "             Mish-75                    [-1, 1]               0\n",
      "          FCBlock-76                    [-1, 1]               0\n",
      "          Sigmoid-77                       [-1]               0\n",
      "           Linear-78                   [-1, 10]              70\n",
      "             Mish-79                   [-1, 10]               0\n",
      "           Linear-80                   [-1, 10]             110\n",
      "             Mish-81                   [-1, 10]               0\n",
      "           Linear-82                    [-1, 1]              11\n",
      "             Mish-83                    [-1, 1]               0\n",
      "          FCBlock-84                    [-1, 1]               0\n",
      "           VecSCM-85                    [-1, 6]               0\n",
      "           Linear-86                  [-1, 128]             896\n",
      "             Mish-87                  [-1, 128]               0\n",
      "           Linear-88                  [-1, 256]          33,024\n",
      "             Mish-89                  [-1, 256]               0\n",
      "           Linear-90                  [-1, 288]          74,016\n",
      "             Mish-91                  [-1, 288]               0\n",
      "          FCBlock-92                  [-1, 288]               0\n",
      "           Linear-93                   [-1, 10]              20\n",
      "             Mish-94                   [-1, 10]               0\n",
      "           Linear-95                   [-1, 20]             220\n",
      "             Mish-96                   [-1, 20]               0\n",
      "           Linear-97                   [-1, 64]           1,344\n",
      "             Mish-98                   [-1, 64]               0\n",
      "          FCBlock-99                   [-1, 64]               0\n",
      "          StrTrf-100             [-1, 32, 3, 3]               0\n",
      "        Upsample-101             [-1, 32, 6, 6]               0\n",
      "        Upsample-102             [-1, 32, 6, 6]               0\n",
      "          Linear-103                   [-1, 10]              20\n",
      "            Mish-104                   [-1, 10]               0\n",
      "          Linear-105                   [-1, 20]             220\n",
      "            Mish-106                   [-1, 20]               0\n",
      "          Linear-107                   [-1, 64]           1,344\n",
      "            Mish-108                   [-1, 64]               0\n",
      "         FCBlock-109                   [-1, 64]               0\n",
      "          StrTrf-110             [-1, 32, 6, 6]               0\n",
      "          Conv2d-111             [-1, 32, 6, 6]           9,248\n",
      "          Conv2d-112             [-1, 32, 6, 6]           9,248\n",
      "            Mish-113             [-1, 32, 6, 6]               0\n",
      "            Mish-114             [-1, 32, 6, 6]               0\n",
      "     BatchNorm2d-115             [-1, 32, 6, 6]              64\n",
      "     BatchNorm2d-116             [-1, 32, 6, 6]              64\n",
      "       ConvBlock-117             [-1, 32, 6, 6]               0\n",
      "       ConvBlock-118             [-1, 32, 6, 6]               0\n",
      "          Linear-119                   [-1, 10]              20\n",
      "            Mish-120                   [-1, 10]               0\n",
      "          Linear-121                   [-1, 20]             220\n",
      "            Mish-122                   [-1, 20]               0\n",
      "          Linear-123                   [-1, 64]           1,344\n",
      "            Mish-124                   [-1, 64]               0\n",
      "         FCBlock-125                   [-1, 64]               0\n",
      "          StrTrf-126             [-1, 32, 6, 6]               0\n",
      "          Conv2d-127             [-1, 32, 6, 6]           9,248\n",
      "          Conv2d-128             [-1, 32, 6, 6]           9,248\n",
      "            Mish-129             [-1, 32, 6, 6]               0\n",
      "            Mish-130             [-1, 32, 6, 6]               0\n",
      "     BatchNorm2d-131             [-1, 32, 6, 6]              64\n",
      "     BatchNorm2d-132             [-1, 32, 6, 6]              64\n",
      "       ConvBlock-133             [-1, 32, 6, 6]               0\n",
      "       ConvBlock-134             [-1, 32, 6, 6]               0\n",
      "          Linear-135                   [-1, 10]              20\n",
      "            Mish-136                   [-1, 10]               0\n",
      "          Linear-137                   [-1, 20]             220\n",
      "            Mish-138                   [-1, 20]               0\n",
      "          Linear-139                   [-1, 64]           1,344\n",
      "            Mish-140                   [-1, 64]               0\n",
      "         FCBlock-141                   [-1, 64]               0\n",
      "          StrTrf-142             [-1, 32, 6, 6]               0\n",
      "        Upsample-143           [-1, 32, 12, 12]               0\n",
      "        Upsample-144           [-1, 32, 12, 12]               0\n",
      "          Linear-145                   [-1, 10]              20\n",
      "            Mish-146                   [-1, 10]               0\n",
      "          Linear-147                   [-1, 20]             220\n",
      "            Mish-148                   [-1, 20]               0\n",
      "          Linear-149                   [-1, 64]           1,344\n",
      "            Mish-150                   [-1, 64]               0\n",
      "         FCBlock-151                   [-1, 64]               0\n",
      "          StrTrf-152           [-1, 32, 12, 12]               0\n",
      "          Conv2d-153           [-1, 32, 12, 12]           9,248\n",
      "          Conv2d-154           [-1, 32, 12, 12]           9,248\n",
      "            Mish-155           [-1, 32, 12, 12]               0\n",
      "            Mish-156           [-1, 32, 12, 12]               0\n",
      "     BatchNorm2d-157           [-1, 32, 12, 12]              64\n",
      "     BatchNorm2d-158           [-1, 32, 12, 12]              64\n",
      "       ConvBlock-159           [-1, 32, 12, 12]               0\n",
      "       ConvBlock-160           [-1, 32, 12, 12]               0\n",
      "          Linear-161                   [-1, 10]              20\n",
      "            Mish-162                   [-1, 10]               0\n",
      "          Linear-163                   [-1, 20]             220\n",
      "            Mish-164                   [-1, 20]               0\n",
      "          Linear-165                   [-1, 64]           1,344\n",
      "            Mish-166                   [-1, 64]               0\n",
      "         FCBlock-167                   [-1, 64]               0\n",
      "          StrTrf-168           [-1, 32, 12, 12]               0\n",
      "          Conv2d-169           [-1, 32, 12, 12]           9,248\n",
      "          Conv2d-170           [-1, 32, 12, 12]           9,248\n",
      "            Mish-171           [-1, 32, 12, 12]               0\n",
      "            Mish-172           [-1, 32, 12, 12]               0\n",
      "     BatchNorm2d-173           [-1, 32, 12, 12]              64\n",
      "     BatchNorm2d-174           [-1, 32, 12, 12]              64\n",
      "       ConvBlock-175           [-1, 32, 12, 12]               0\n",
      "       ConvBlock-176           [-1, 32, 12, 12]               0\n",
      "        Upsample-177           [-1, 32, 24, 24]               0\n",
      "        Upsample-178           [-1, 32, 24, 24]               0\n",
      "          Conv2d-179           [-1, 32, 24, 24]           9,248\n",
      "          Conv2d-180           [-1, 32, 24, 24]           9,248\n",
      "            Mish-181           [-1, 32, 24, 24]               0\n",
      "            Mish-182           [-1, 32, 24, 24]               0\n",
      "     BatchNorm2d-183           [-1, 32, 24, 24]              64\n",
      "     BatchNorm2d-184           [-1, 32, 24, 24]              64\n",
      "       ConvBlock-185           [-1, 32, 24, 24]               0\n",
      "       ConvBlock-186           [-1, 32, 24, 24]               0\n",
      "          Conv2d-187            [-1, 1, 24, 24]             289\n",
      "          Conv2d-188            [-1, 1, 24, 24]             289\n",
      "            Mish-189            [-1, 1, 24, 24]               0\n",
      "            Mish-190            [-1, 1, 24, 24]               0\n",
      "     BatchNorm2d-191            [-1, 1, 24, 24]               2\n",
      "     BatchNorm2d-192            [-1, 1, 24, 24]               2\n",
      "       ConvBlock-193            [-1, 1, 24, 24]               0\n",
      "       ConvBlock-194            [-1, 1, 24, 24]               0\n",
      "          Conv2d-195            [-1, 1, 28, 28]              10\n",
      "          Conv2d-196            [-1, 1, 28, 28]              10\n",
      "            Mish-197            [-1, 1, 28, 28]               0\n",
      "            Mish-198            [-1, 1, 28, 28]               0\n",
      "     BatchNorm2d-199            [-1, 1, 28, 28]               2\n",
      "     BatchNorm2d-200            [-1, 1, 28, 28]               2\n",
      "       ConvBlock-201            [-1, 1, 28, 28]               0\n",
      "       ConvBlock-202            [-1, 1, 28, 28]               0\n",
      "      SCMDecoder-203            [-1, 1, 28, 28]               0\n",
      "================================================================\n",
      "Total params: 367,336\n",
      "Trainable params: 367,336\n",
      "Non-trainable params: 0\n",
      "----------------------------------------------------------------\n",
      "Input size (MB): 0.00\n",
      "Forward/backward pass size (MB): 3.17\n",
      "Params size (MB): 1.40\n",
      "Estimated Total Size (MB): 4.58\n",
      "----------------------------------------------------------------\n",
      "Initialising schedulers Manager...\n",
      "Causal mode ON\n",
      "Explicit mode ON\n"
     ]
    }
   ],
   "source": [
    "params = {\"model_name\":\"XCSAE\",\n",
    "          \"model_version\":\"standardSE\",\n",
    "          \"data\" : \"MNIST\"}\n",
    "\n",
    "# load handler\n",
    "handler = ModelHandler.from_config(**params)\n",
    "handler.config[\"logging_params\"][\"save_dir\"] = \"./logs\"\n",
    "handler.load_checkpoint('final')"
   ]
  },
  {
   "cell_type": "code",
   "execution_count": 44,
   "metadata": {},
   "outputs": [
    {
     "name": "stdout",
     "output_type": "stream",
     "text": [
      "Scoring model's response map invariance to noise interventions.\n"
     ]
    },
    {
     "data": {
      "application/vnd.jupyter.widget-view+json": {
       "model_id": "62af7b3dd04b4477aa82e4e557c3dfdb",
       "version_major": 2,
       "version_minor": 0
      },
      "text/plain": [
       "HBox(children=(HTML(value=''), FloatProgress(value=1.0, bar_style='info', layout=Layout(width='20px'), max=1.0…"
      ]
     },
     "metadata": {},
     "output_type": "display_data"
    },
    {
     "name": "stdout",
     "output_type": "stream",
     "text": [
      "Intervening on 0 ...\n",
      "Intervening on 1 ...\n",
      "Intervening on 2 ...\n",
      "Intervening on 3 ...\n",
      "Intervening on 4 ...\n",
      "Intervening on 5 ...\n",
      "Storing invariance evaluation results.\n"
     ]
    }
   ],
   "source": [
    "params= {\n",
    "    'intervention_type':'noise',\n",
    "    'num_interventions':100, \n",
    "    'num_samples':200,\n",
    "    'store':True, \n",
    "    'load':False, # note: when load=True the std_devs and intv_mags are not returned\n",
    "    'random_seed':23,\n",
    "    'num_batches':10,\n",
    "    'mode':'X',\n",
    "    'normalise':False,\n",
    "    'verbose':True}\n",
    "\n",
    "invariance_matrix, std_devs = handler.evaluate_invariance(**params)"
   ]
  },
  {
   "cell_type": "code",
   "execution_count": 45,
   "metadata": {},
   "outputs": [
    {
     "data": {
      "text/plain": [
       "tensor([[0.1179, 0.9523, 0.8865, 0.8287, 0.9109, 0.9088],\n",
       "        [0.6412, 0.0570, 0.7650, 0.6236, 0.7673, 0.7809],\n",
       "        [0.8302, 0.9297, 0.0409, 0.7800, 0.8745, 0.8693],\n",
       "        [0.9298, 0.9678, 0.9363, 0.0205, 0.9387, 0.9381],\n",
       "        [0.8517, 0.9466, 0.8853, 0.8407, 0.0453, 0.8879],\n",
       "        [0.8088, 0.9354, 0.8595, 0.7650, 0.8848, 0.0642]], device='cuda:0')"
      ]
     },
     "execution_count": 45,
     "metadata": {},
     "output_type": "execute_result"
    }
   ],
   "source": [
    "invariance_matrix"
   ]
  },
  {
   "cell_type": "code",
   "execution_count": 46,
   "metadata": {},
   "outputs": [
    {
     "data": {
      "text/plain": [
       "tensor([[0.7834, 0.3304, 0.5450, 1.1047, 0.6769, 0.7953],\n",
       "        [0.7165, 0.3287, 0.5335, 1.0867, 0.6588, 0.7530]], device='cuda:0')"
      ]
     },
     "execution_count": 46,
     "metadata": {},
     "output_type": "execute_result"
    }
   ],
   "source": [
    "std_devs"
   ]
  },
  {
   "cell_type": "code",
   "execution_count": 47,
   "metadata": {},
   "outputs": [
    {
     "name": "stdout",
     "output_type": "stream",
     "text": [
      "\n"
     ]
    }
   ],
   "source": [
    "handler.visualiser = ModelVisualiser(handler.model, handler.dataloader.test, **handler.config[\"vis_params\"])\n",
    "figure_params = {\"figsize\":(8,6), \"nrows\":3, \"N\":100, \"markersize\":10, \"font_scale\":10}"
   ]
  },
  {
   "cell_type": "code",
   "execution_count": 48,
   "metadata": {
    "scrolled": false
   },
   "outputs": [
    {
     "data": {
      "image/png": "[encoded data removed]",
      "text/plain": [
       "<Figure size 576x432 with 2 Axes>"
      ]
     },
     "metadata": {
      "needs_background": "light"
     },
     "output_type": "display_data"
    },
    {
     "data": {
      "image/png": "[encoded data removed]",
      "text/plain": [
       "<Figure size 576x144 with 2 Axes>"
      ]
     },
     "metadata": {
      "needs_background": "light"
     },
     "output_type": "display_data"
    }
   ],
   "source": [
    "fig = handler.visualiser.plot_heatmap(invariance_matrix.cpu(), \n",
    "                                      title=\"Invariance to noise interventions matrix\", \n",
    "                                      threshold=0., \n",
    "                                      **figure_params)\n",
    "fig2 = handler.visualiser.plot_heatmap(std_devs.view(2,6).cpu(), \n",
    "                                      title=\"Standard Deviation of marginals (original and responses)\", \n",
    "                                      threshold=0., figsize=(8,2))"
   ]
  },
  {
   "cell_type": "code",
   "execution_count": 49,
   "metadata": {},
   "outputs": [
    {
     "name": "stdout",
     "output_type": "stream",
     "text": [
      "tensor(25.7253)\n"
     ]
    }
   ],
   "source": [
    "print(torch.sum(invariance_matrix.cpu()*(1-torch.eye(6))))"
   ]
  },
  {
   "cell_type": "code",
   "execution_count": 35,
   "metadata": {},
   "outputs": [
    {
     "data": {
      "text/plain": [
       "tensor(35.0255)"
      ]
     },
     "execution_count": 35,
     "metadata": {},
     "output_type": "execute_result"
    }
   ],
   "source": [
    "torch.sum((((1. - invariance_matrix.cpu())*torch.eye(6)) + invariance_matrix.cpu()*(1-torch.eye(6))))"
   ]
  },
  {
   "cell_type": "code",
   "execution_count": null,
   "metadata": {},
   "outputs": [],
   "source": []
  },
  {
   "cell_type": "markdown",
   "metadata": {},
   "source": [
    "# Equivariance"
   ]
  },
  {
   "cell_type": "code",
   "execution_count": 85,
   "metadata": {
    "scrolled": true
   },
   "outputs": [
    {
     "name": "stdout",
     "output_type": "stream",
     "text": [
      "configs/models/XAE/standardS.yaml\n",
      "Initialising schedulers Manager...\n",
      "Explicit mode ON\n",
      "XAE model hanlder loaded.\n",
      "Loading latest checkpoint at logs\\XAE\\standardS_MNIST\\checkpoints\\epoch=197-step=65012.ckpt .\n",
      "MODEL SUMMARY\n",
      "----------------------------------------------------------------\n",
      "        Layer (type)               Output Shape         Param #\n",
      "================================================================\n",
      "            Conv2d-1           [-1, 32, 28, 28]             320\n",
      "         MaxPool2d-2           [-1, 32, 14, 14]               0\n",
      "              Mish-3           [-1, 32, 14, 14]               0\n",
      "       BatchNorm2d-4           [-1, 32, 14, 14]              64\n",
      "         ConvBlock-5           [-1, 32, 14, 14]               0\n",
      "            Conv2d-6           [-1, 32, 14, 14]           9,248\n",
      "              Mish-7           [-1, 32, 14, 14]               0\n",
      "       BatchNorm2d-8           [-1, 32, 14, 14]              64\n",
      "         ConvBlock-9           [-1, 32, 14, 14]               0\n",
      "           Conv2d-10           [-1, 32, 14, 14]           9,248\n",
      "        MaxPool2d-11             [-1, 32, 7, 7]               0\n",
      "             Mish-12             [-1, 32, 7, 7]               0\n",
      "      BatchNorm2d-13             [-1, 32, 7, 7]              64\n",
      "        ConvBlock-14             [-1, 32, 7, 7]               0\n",
      "           Conv2d-15             [-1, 32, 7, 7]           9,248\n",
      "             Mish-16             [-1, 32, 7, 7]               0\n",
      "      BatchNorm2d-17             [-1, 32, 7, 7]              64\n",
      "        ConvBlock-18             [-1, 32, 7, 7]               0\n",
      "           Conv2d-19             [-1, 32, 7, 7]           9,248\n",
      "        MaxPool2d-20             [-1, 32, 3, 3]               0\n",
      "             Mish-21             [-1, 32, 3, 3]               0\n",
      "      BatchNorm2d-22             [-1, 32, 3, 3]              64\n",
      "        ConvBlock-23             [-1, 32, 3, 3]               0\n",
      "           Conv2d-24             [-1, 32, 3, 3]           9,248\n",
      "             Mish-25             [-1, 32, 3, 3]               0\n",
      "      BatchNorm2d-26             [-1, 32, 3, 3]              64\n",
      "        ConvBlock-27             [-1, 32, 3, 3]               0\n",
      "          Flatten-28                  [-1, 288]               0\n",
      "        LayerNorm-29                  [-1, 288]             576\n",
      "          ConvNet-30                  [-1, 288]               0\n",
      "           Linear-31                  [-1, 256]          73,984\n",
      "             Mish-32                  [-1, 256]               0\n",
      "           Linear-33                  [-1, 128]          32,896\n",
      "             Mish-34                  [-1, 128]               0\n",
      "           Linear-35                    [-1, 6]             774\n",
      "             Mish-36                    [-1, 6]               0\n",
      "          FCBlock-37                    [-1, 6]               0\n",
      "           Linear-38                   [-1, 10]              20\n",
      "             Mish-39                   [-1, 10]               0\n",
      "           Linear-40                   [-1, 10]             110\n",
      "             Mish-41                   [-1, 10]               0\n",
      "           Linear-42                    [-1, 1]              11\n",
      "             Mish-43                    [-1, 1]               0\n",
      "          FCBlock-44                    [-1, 1]               0\n",
      "          Sigmoid-45                       [-1]               0\n",
      "           Linear-46                   [-1, 10]              30\n",
      "             Mish-47                   [-1, 10]               0\n",
      "           Linear-48                   [-1, 10]             110\n",
      "             Mish-49                   [-1, 10]               0\n",
      "           Linear-50                    [-1, 1]              11\n",
      "             Mish-51                    [-1, 1]               0\n",
      "          FCBlock-52                    [-1, 1]               0\n",
      "          Sigmoid-53                       [-1]               0\n",
      "           Linear-54                   [-1, 10]              40\n",
      "             Mish-55                   [-1, 10]               0\n",
      "           Linear-56                   [-1, 10]             110\n",
      "             Mish-57                   [-1, 10]               0\n",
      "           Linear-58                    [-1, 1]              11\n",
      "             Mish-59                    [-1, 1]               0\n",
      "          FCBlock-60                    [-1, 1]               0\n",
      "          Sigmoid-61                       [-1]               0\n",
      "           Linear-62                   [-1, 10]              50\n",
      "             Mish-63                   [-1, 10]               0\n",
      "           Linear-64                   [-1, 10]             110\n",
      "             Mish-65                   [-1, 10]               0\n",
      "           Linear-66                    [-1, 1]              11\n",
      "             Mish-67                    [-1, 1]               0\n",
      "          FCBlock-68                    [-1, 1]               0\n",
      "          Sigmoid-69                       [-1]               0\n",
      "           Linear-70                   [-1, 10]              60\n",
      "             Mish-71                   [-1, 10]               0\n",
      "           Linear-72                   [-1, 10]             110\n",
      "             Mish-73                   [-1, 10]               0\n",
      "           Linear-74                    [-1, 1]              11\n",
      "             Mish-75                    [-1, 1]               0\n",
      "          FCBlock-76                    [-1, 1]               0\n",
      "          Sigmoid-77                       [-1]               0\n",
      "           Linear-78                   [-1, 10]              70\n",
      "             Mish-79                   [-1, 10]               0\n",
      "           Linear-80                   [-1, 10]             110\n",
      "             Mish-81                   [-1, 10]               0\n",
      "           Linear-82                    [-1, 1]              11\n",
      "             Mish-83                    [-1, 1]               0\n",
      "          FCBlock-84                    [-1, 1]               0\n",
      "           VecSCM-85                    [-1, 6]               0\n",
      "           Linear-86                  [-1, 128]             896\n",
      "             Mish-87                  [-1, 128]               0\n",
      "           Linear-88                  [-1, 256]          33,024\n",
      "             Mish-89                  [-1, 256]               0\n",
      "           Linear-90                  [-1, 288]          74,016\n",
      "             Mish-91                  [-1, 288]               0\n",
      "          FCBlock-92                  [-1, 288]               0\n",
      "         Upsample-93             [-1, 32, 6, 6]               0\n",
      "           Conv2d-94             [-1, 32, 6, 6]           9,248\n",
      "             Mish-95             [-1, 32, 6, 6]               0\n",
      "      BatchNorm2d-96             [-1, 32, 6, 6]              64\n",
      "        ConvBlock-97             [-1, 32, 6, 6]               0\n",
      "           Conv2d-98             [-1, 32, 6, 6]           9,248\n",
      "             Mish-99             [-1, 32, 6, 6]               0\n",
      "     BatchNorm2d-100             [-1, 32, 6, 6]              64\n",
      "       ConvBlock-101             [-1, 32, 6, 6]               0\n",
      "        Upsample-102           [-1, 32, 12, 12]               0\n",
      "          Conv2d-103           [-1, 32, 12, 12]           9,248\n",
      "            Mish-104           [-1, 32, 12, 12]               0\n",
      "     BatchNorm2d-105           [-1, 32, 12, 12]              64\n",
      "       ConvBlock-106           [-1, 32, 12, 12]               0\n",
      "          Conv2d-107           [-1, 32, 12, 12]           9,248\n",
      "            Mish-108           [-1, 32, 12, 12]               0\n",
      "     BatchNorm2d-109           [-1, 32, 12, 12]              64\n",
      "       ConvBlock-110           [-1, 32, 12, 12]               0\n",
      "        Upsample-111           [-1, 32, 24, 24]               0\n",
      "          Conv2d-112           [-1, 32, 24, 24]           9,248\n",
      "            Mish-113           [-1, 32, 24, 24]               0\n",
      "     BatchNorm2d-114           [-1, 32, 24, 24]              64\n",
      "       ConvBlock-115           [-1, 32, 24, 24]               0\n",
      "          Conv2d-116            [-1, 1, 24, 24]             289\n",
      "            Mish-117            [-1, 1, 24, 24]               0\n",
      "     BatchNorm2d-118            [-1, 1, 24, 24]               2\n",
      "       ConvBlock-119            [-1, 1, 24, 24]               0\n",
      "          Conv2d-120            [-1, 1, 28, 28]              10\n",
      "            Mish-121            [-1, 1, 28, 28]               0\n",
      "     BatchNorm2d-122            [-1, 1, 28, 28]               2\n",
      "       ConvBlock-123            [-1, 1, 28, 28]               0\n",
      "UpsampledConvNet-124            [-1, 1, 28, 28]               0\n",
      "================================================================\n",
      "Total params: 310,969\n",
      "Trainable params: 310,969\n",
      "Non-trainable params: 0\n",
      "----------------------------------------------------------------\n",
      "Input size (MB): 0.00\n",
      "Forward/backward pass size (MB): 1.92\n",
      "Params size (MB): 1.19\n",
      "Estimated Total Size (MB): 3.11\n",
      "----------------------------------------------------------------\n",
      "Initialising schedulers Manager...\n",
      "Explicit mode ON\n"
     ]
    }
   ],
   "source": [
    "params = {\"model_name\":\"XAE\",\n",
    "          \"model_version\":\"standardS\",\n",
    "          \"data\" : \"MNIST\"}\n",
    "\n",
    "# load handler\n",
    "handler = ModelHandler.from_config(**params)\n",
    "handler.config[\"logging_params\"][\"save_dir\"] = \"./logs\"\n",
    "handler.load_checkpoint()"
   ]
  },
  {
   "cell_type": "code",
   "execution_count": 86,
   "metadata": {},
   "outputs": [
    {
     "name": "stdout",
     "output_type": "stream",
     "text": [
      "Scoring model's response map equivariance to noise interventions.\n"
     ]
    },
    {
     "data": {
      "application/vnd.jupyter.widget-view+json": {
       "model_id": "5372dc1a0b5543d1b103ed1f8590e616",
       "version_major": 2,
       "version_minor": 0
      },
      "text/plain": [
       "HBox(children=(HTML(value=''), FloatProgress(value=1.0, bar_style='info', layout=Layout(width='20px'), max=1.0…"
      ]
     },
     "metadata": {},
     "output_type": "display_data"
    },
    {
     "name": "stdout",
     "output_type": "stream",
     "text": [
      "Intervening on 0 ...\n",
      "Intervening on 1 ...\n",
      "Intervening on 2 ...\n",
      "Intervening on 3 ...\n",
      "Intervening on 4 ...\n",
      "Intervening on 5 ...\n",
      "Storing equivariance evaluation results.\n"
     ]
    }
   ],
   "source": [
    "params= {\n",
    "    'intervention_type':'noise',\n",
    "    'num_interventions':100, \n",
    "    'num_samples':100,\n",
    "    'store':True, \n",
    "    'load':False, # note: when load=True the std_devs and intv_mags are not returned\n",
    "    'random_seed':23,\n",
    "    'num_batches':10,\n",
    "    'mode':'X',\n",
    "    'prior_mode':'posterior',\n",
    "    'verbose':True}\n",
    "\n",
    "equivariance_matrix = handler.evaluate_equivariance(**params)"
   ]
  },
  {
   "cell_type": "code",
   "execution_count": 87,
   "metadata": {},
   "outputs": [
    {
     "data": {
      "text/plain": [
       "tensor([[0.9781, 0.9829, 0.9823, 0.9731, 0.9837, 0.9796],\n",
       "        [0.9673, 0.9652, 0.9640, 0.9625, 0.9695, 0.9610],\n",
       "        [0.9842, 0.9865, 0.9746, 0.9816, 0.9858, 0.9839],\n",
       "        [0.9832, 0.9863, 0.9838, 0.9746, 0.9817, 0.9795],\n",
       "        [0.9800, 0.9827, 0.9796, 0.9778, 0.9764, 0.9756],\n",
       "        [0.9859, 0.9866, 0.9860, 0.9804, 0.9856, 0.9744]], device='cuda:0')"
      ]
     },
     "execution_count": 87,
     "metadata": {},
     "output_type": "execute_result"
    }
   ],
   "source": [
    "equivariance_matrix"
   ]
  },
  {
   "cell_type": "code",
   "execution_count": 88,
   "metadata": {},
   "outputs": [],
   "source": [
    "handler.visualiser = ModelVisualiser(handler.model, handler.dataloader.test, **handler.config[\"vis_params\"])\n",
    "figure_params = {\"figsize\":(8,6), \"nrows\":3, \"N\":100, \"markersize\":10, \"font_scale\":10, \"vmin\":0.0, \"vmax\":1.0}"
   ]
  },
  {
   "cell_type": "code",
   "execution_count": 89,
   "metadata": {
    "scrolled": true
   },
   "outputs": [
    {
     "name": "stdout",
     "output_type": "stream",
     "text": [
      "\n"
     ]
    },
    {
     "data": {
      "image/png": "[encoded data removed]",
      "text/plain": [
       "<Figure size 576x432 with 2 Axes>"
      ]
     },
     "metadata": {
      "needs_background": "light"
     },
     "output_type": "display_data"
    }
   ],
   "source": [
    "fig = handler.visualiser.plot_heatmap(equivariance_matrix.cpu(), \n",
    "                                      title=\"Equivariance to noise interventions matrix\", \n",
    "                                      threshold=0., \n",
    "                                      **figure_params)"
   ]
  },
  {
   "cell_type": "code",
   "execution_count": 90,
   "metadata": {},
   "outputs": [
    {
     "name": "stdout",
     "output_type": "stream",
     "text": [
      "tensor(35.2260, device='cuda:0')\n"
     ]
    }
   ],
   "source": [
    "print(torch.sum(equivariance_matrix))"
   ]
  },
  {
   "cell_type": "code",
   "execution_count": null,
   "metadata": {},
   "outputs": [],
   "source": []
  },
  {
   "cell_type": "markdown",
   "metadata": {},
   "source": [
    "# Self-consistency"
   ]
  },
  {
   "cell_type": "code",
   "execution_count": 97,
   "metadata": {
    "scrolled": true
   },
   "outputs": [
    {
     "name": "stdout",
     "output_type": "stream",
     "text": [
      "configs/models/XCSAE/standardS.yaml\n",
      "Initialising schedulers Manager...\n",
      "Causal mode ON\n",
      "Explicit mode ON\n",
      "XCSAE model hanlder loaded.\n",
      "Loading latest checkpoint at logs\\XCSAE\\standardS_MNIST\\checkpoints\\epoch=293-step=96082.ckpt .\n",
      "MODEL SUMMARY\n",
      "----------------------------------------------------------------\n",
      "        Layer (type)               Output Shape         Param #\n",
      "================================================================\n",
      "            Conv2d-1           [-1, 32, 28, 28]             320\n",
      "         MaxPool2d-2           [-1, 32, 14, 14]               0\n",
      "              Mish-3           [-1, 32, 14, 14]               0\n",
      "       BatchNorm2d-4           [-1, 32, 14, 14]              64\n",
      "         ConvBlock-5           [-1, 32, 14, 14]               0\n",
      "            Conv2d-6           [-1, 32, 14, 14]           9,248\n",
      "              Mish-7           [-1, 32, 14, 14]               0\n",
      "       BatchNorm2d-8           [-1, 32, 14, 14]              64\n",
      "         ConvBlock-9           [-1, 32, 14, 14]               0\n",
      "           Conv2d-10           [-1, 32, 14, 14]           9,248\n",
      "        MaxPool2d-11             [-1, 32, 7, 7]               0\n",
      "             Mish-12             [-1, 32, 7, 7]               0\n",
      "      BatchNorm2d-13             [-1, 32, 7, 7]              64\n",
      "        ConvBlock-14             [-1, 32, 7, 7]               0\n",
      "           Conv2d-15             [-1, 32, 7, 7]           9,248\n",
      "             Mish-16             [-1, 32, 7, 7]               0\n",
      "      BatchNorm2d-17             [-1, 32, 7, 7]              64\n",
      "        ConvBlock-18             [-1, 32, 7, 7]               0\n",
      "           Conv2d-19             [-1, 32, 7, 7]           9,248\n",
      "        MaxPool2d-20             [-1, 32, 3, 3]               0\n",
      "             Mish-21             [-1, 32, 3, 3]               0\n",
      "      BatchNorm2d-22             [-1, 32, 3, 3]              64\n",
      "        ConvBlock-23             [-1, 32, 3, 3]               0\n",
      "           Conv2d-24             [-1, 32, 3, 3]           9,248\n",
      "             Mish-25             [-1, 32, 3, 3]               0\n",
      "      BatchNorm2d-26             [-1, 32, 3, 3]              64\n",
      "        ConvBlock-27             [-1, 32, 3, 3]               0\n",
      "          Flatten-28                  [-1, 288]               0\n",
      "        LayerNorm-29                  [-1, 288]             576\n",
      "          ConvNet-30                  [-1, 288]               0\n",
      "           Linear-31                  [-1, 256]          73,984\n",
      "             Mish-32                  [-1, 256]               0\n",
      "           Linear-33                  [-1, 128]          32,896\n",
      "             Mish-34                  [-1, 128]               0\n",
      "           Linear-35                    [-1, 6]             774\n",
      "             Mish-36                    [-1, 6]               0\n",
      "          FCBlock-37                    [-1, 6]               0\n",
      "           Linear-38                   [-1, 10]              20\n",
      "             Mish-39                   [-1, 10]               0\n",
      "           Linear-40                   [-1, 10]             110\n",
      "             Mish-41                   [-1, 10]               0\n",
      "           Linear-42                    [-1, 1]              11\n",
      "             Mish-43                    [-1, 1]               0\n",
      "          FCBlock-44                    [-1, 1]               0\n",
      "          Sigmoid-45                       [-1]               0\n",
      "           Linear-46                   [-1, 10]              30\n",
      "             Mish-47                   [-1, 10]               0\n",
      "           Linear-48                   [-1, 10]             110\n",
      "             Mish-49                   [-1, 10]               0\n",
      "           Linear-50                    [-1, 1]              11\n",
      "             Mish-51                    [-1, 1]               0\n",
      "          FCBlock-52                    [-1, 1]               0\n",
      "          Sigmoid-53                       [-1]               0\n",
      "           Linear-54                   [-1, 10]              40\n",
      "             Mish-55                   [-1, 10]               0\n",
      "           Linear-56                   [-1, 10]             110\n",
      "             Mish-57                   [-1, 10]               0\n",
      "           Linear-58                    [-1, 1]              11\n",
      "             Mish-59                    [-1, 1]               0\n",
      "          FCBlock-60                    [-1, 1]               0\n",
      "          Sigmoid-61                       [-1]               0\n",
      "           Linear-62                   [-1, 10]              50\n",
      "             Mish-63                   [-1, 10]               0\n",
      "           Linear-64                   [-1, 10]             110\n",
      "             Mish-65                   [-1, 10]               0\n",
      "           Linear-66                    [-1, 1]              11\n",
      "             Mish-67                    [-1, 1]               0\n",
      "          FCBlock-68                    [-1, 1]               0\n",
      "          Sigmoid-69                       [-1]               0\n",
      "           Linear-70                   [-1, 10]              60\n",
      "             Mish-71                   [-1, 10]               0\n",
      "           Linear-72                   [-1, 10]             110\n",
      "             Mish-73                   [-1, 10]               0\n",
      "           Linear-74                    [-1, 1]              11\n",
      "             Mish-75                    [-1, 1]               0\n",
      "          FCBlock-76                    [-1, 1]               0\n",
      "          Sigmoid-77                       [-1]               0\n",
      "           Linear-78                   [-1, 10]              70\n",
      "             Mish-79                   [-1, 10]               0\n",
      "           Linear-80                   [-1, 10]             110\n",
      "             Mish-81                   [-1, 10]               0\n",
      "           Linear-82                    [-1, 1]              11\n",
      "             Mish-83                    [-1, 1]               0\n",
      "          FCBlock-84                    [-1, 1]               0\n",
      "           VecSCM-85                    [-1, 6]               0\n",
      "           Linear-86                  [-1, 128]             896\n",
      "             Mish-87                  [-1, 128]               0\n",
      "           Linear-88                  [-1, 256]          33,024\n",
      "             Mish-89                  [-1, 256]               0\n",
      "           Linear-90                  [-1, 288]          74,016\n",
      "             Mish-91                  [-1, 288]               0\n",
      "          FCBlock-92                  [-1, 288]               0\n",
      "           Linear-93                   [-1, 10]              20\n",
      "             Mish-94                   [-1, 10]               0\n",
      "           Linear-95                   [-1, 20]             220\n",
      "             Mish-96                   [-1, 20]               0\n",
      "           Linear-97                   [-1, 64]           1,344\n",
      "             Mish-98                   [-1, 64]               0\n",
      "          FCBlock-99                   [-1, 64]               0\n",
      "          StrTrf-100             [-1, 32, 3, 3]               0\n",
      "        Upsample-101             [-1, 32, 6, 6]               0\n",
      "        Upsample-102             [-1, 32, 6, 6]               0\n",
      "          Linear-103                   [-1, 10]              20\n",
      "            Mish-104                   [-1, 10]               0\n",
      "          Linear-105                   [-1, 20]             220\n",
      "            Mish-106                   [-1, 20]               0\n",
      "          Linear-107                   [-1, 64]           1,344\n",
      "            Mish-108                   [-1, 64]               0\n",
      "         FCBlock-109                   [-1, 64]               0\n",
      "          StrTrf-110             [-1, 32, 6, 6]               0\n",
      "          Conv2d-111             [-1, 32, 6, 6]           9,248\n",
      "          Conv2d-112             [-1, 32, 6, 6]           9,248\n",
      "            Mish-113             [-1, 32, 6, 6]               0\n",
      "            Mish-114             [-1, 32, 6, 6]               0\n",
      "     BatchNorm2d-115             [-1, 32, 6, 6]              64\n",
      "     BatchNorm2d-116             [-1, 32, 6, 6]              64\n",
      "       ConvBlock-117             [-1, 32, 6, 6]               0\n",
      "       ConvBlock-118             [-1, 32, 6, 6]               0\n",
      "          Linear-119                   [-1, 10]              20\n",
      "            Mish-120                   [-1, 10]               0\n",
      "          Linear-121                   [-1, 20]             220\n",
      "            Mish-122                   [-1, 20]               0\n",
      "          Linear-123                   [-1, 64]           1,344\n",
      "            Mish-124                   [-1, 64]               0\n",
      "         FCBlock-125                   [-1, 64]               0\n",
      "          StrTrf-126             [-1, 32, 6, 6]               0\n",
      "          Conv2d-127             [-1, 32, 6, 6]           9,248\n",
      "          Conv2d-128             [-1, 32, 6, 6]           9,248\n",
      "            Mish-129             [-1, 32, 6, 6]               0\n",
      "            Mish-130             [-1, 32, 6, 6]               0\n",
      "     BatchNorm2d-131             [-1, 32, 6, 6]              64\n",
      "     BatchNorm2d-132             [-1, 32, 6, 6]              64\n",
      "       ConvBlock-133             [-1, 32, 6, 6]               0\n",
      "       ConvBlock-134             [-1, 32, 6, 6]               0\n",
      "          Linear-135                   [-1, 10]              20\n",
      "            Mish-136                   [-1, 10]               0\n",
      "          Linear-137                   [-1, 20]             220\n",
      "            Mish-138                   [-1, 20]               0\n",
      "          Linear-139                   [-1, 64]           1,344\n",
      "            Mish-140                   [-1, 64]               0\n",
      "         FCBlock-141                   [-1, 64]               0\n",
      "          StrTrf-142             [-1, 32, 6, 6]               0\n",
      "        Upsample-143           [-1, 32, 12, 12]               0\n",
      "        Upsample-144           [-1, 32, 12, 12]               0\n",
      "          Linear-145                   [-1, 10]              20\n",
      "            Mish-146                   [-1, 10]               0\n",
      "          Linear-147                   [-1, 20]             220\n",
      "            Mish-148                   [-1, 20]               0\n",
      "          Linear-149                   [-1, 64]           1,344\n",
      "            Mish-150                   [-1, 64]               0\n",
      "         FCBlock-151                   [-1, 64]               0\n",
      "          StrTrf-152           [-1, 32, 12, 12]               0\n",
      "          Conv2d-153           [-1, 32, 12, 12]           9,248\n",
      "          Conv2d-154           [-1, 32, 12, 12]           9,248\n",
      "            Mish-155           [-1, 32, 12, 12]               0\n",
      "            Mish-156           [-1, 32, 12, 12]               0\n",
      "     BatchNorm2d-157           [-1, 32, 12, 12]              64\n",
      "     BatchNorm2d-158           [-1, 32, 12, 12]              64\n",
      "       ConvBlock-159           [-1, 32, 12, 12]               0\n",
      "       ConvBlock-160           [-1, 32, 12, 12]               0\n",
      "          Linear-161                   [-1, 10]              20\n",
      "            Mish-162                   [-1, 10]               0\n",
      "          Linear-163                   [-1, 20]             220\n",
      "            Mish-164                   [-1, 20]               0\n",
      "          Linear-165                   [-1, 64]           1,344\n",
      "            Mish-166                   [-1, 64]               0\n",
      "         FCBlock-167                   [-1, 64]               0\n",
      "          StrTrf-168           [-1, 32, 12, 12]               0\n",
      "          Conv2d-169           [-1, 32, 12, 12]           9,248\n",
      "          Conv2d-170           [-1, 32, 12, 12]           9,248\n",
      "            Mish-171           [-1, 32, 12, 12]               0\n",
      "            Mish-172           [-1, 32, 12, 12]               0\n",
      "     BatchNorm2d-173           [-1, 32, 12, 12]              64\n",
      "     BatchNorm2d-174           [-1, 32, 12, 12]              64\n",
      "       ConvBlock-175           [-1, 32, 12, 12]               0\n",
      "       ConvBlock-176           [-1, 32, 12, 12]               0\n",
      "        Upsample-177           [-1, 32, 24, 24]               0\n",
      "        Upsample-178           [-1, 32, 24, 24]               0\n",
      "          Conv2d-179           [-1, 32, 24, 24]           9,248\n",
      "          Conv2d-180           [-1, 32, 24, 24]           9,248\n",
      "            Mish-181           [-1, 32, 24, 24]               0\n",
      "            Mish-182           [-1, 32, 24, 24]               0\n",
      "     BatchNorm2d-183           [-1, 32, 24, 24]              64\n",
      "     BatchNorm2d-184           [-1, 32, 24, 24]              64\n",
      "       ConvBlock-185           [-1, 32, 24, 24]               0\n",
      "       ConvBlock-186           [-1, 32, 24, 24]               0\n",
      "          Conv2d-187            [-1, 1, 24, 24]             289\n",
      "          Conv2d-188            [-1, 1, 24, 24]             289\n",
      "            Mish-189            [-1, 1, 24, 24]               0\n",
      "            Mish-190            [-1, 1, 24, 24]               0\n",
      "     BatchNorm2d-191            [-1, 1, 24, 24]               2\n",
      "     BatchNorm2d-192            [-1, 1, 24, 24]               2\n",
      "       ConvBlock-193            [-1, 1, 24, 24]               0\n",
      "       ConvBlock-194            [-1, 1, 24, 24]               0\n",
      "          Conv2d-195            [-1, 1, 28, 28]              10\n",
      "          Conv2d-196            [-1, 1, 28, 28]              10\n",
      "            Mish-197            [-1, 1, 28, 28]               0\n",
      "            Mish-198            [-1, 1, 28, 28]               0\n",
      "     BatchNorm2d-199            [-1, 1, 28, 28]               2\n",
      "     BatchNorm2d-200            [-1, 1, 28, 28]               2\n",
      "       ConvBlock-201            [-1, 1, 28, 28]               0\n",
      "       ConvBlock-202            [-1, 1, 28, 28]               0\n",
      "      SCMDecoder-203            [-1, 1, 28, 28]               0\n",
      "================================================================\n",
      "Total params: 367,336\n",
      "Trainable params: 367,336\n",
      "Non-trainable params: 0\n",
      "----------------------------------------------------------------\n",
      "Input size (MB): 0.00\n",
      "Forward/backward pass size (MB): 3.17\n",
      "Params size (MB): 1.40\n",
      "Estimated Total Size (MB): 4.58\n",
      "----------------------------------------------------------------\n",
      "Initialising schedulers Manager...\n",
      "Causal mode ON\n",
      "Explicit mode ON\n"
     ]
    }
   ],
   "source": [
    "params = {\"model_name\":\"XCSAE\",\n",
    "          \"model_version\":\"standardS\",\n",
    "          \"data\" : \"MNIST\"}\n",
    "\n",
    "# load handler\n",
    "handler = ModelHandler.from_config(**params)\n",
    "handler.config[\"logging_params\"][\"save_dir\"] = \"./logs\"\n",
    "handler.load_checkpoint()"
   ]
  },
  {
   "cell_type": "code",
   "execution_count": 63,
   "metadata": {},
   "outputs": [
    {
     "name": "stdout",
     "output_type": "stream",
     "text": [
      "Scoring model's self consistency.\n"
     ]
    }
   ],
   "source": [
    "params= {'num_samples':100,\n",
    "        'random_seed':23,\n",
    "        'num_batches':10,\n",
    "        'prior_mode':'posterior',\n",
    "        'normalise': False,\n",
    "        'verbose':True}\n",
    "\n",
    "consistency, std_dev = handler.evaluate_self_consistency(**params)"
   ]
  },
  {
   "cell_type": "code",
   "execution_count": 64,
   "metadata": {},
   "outputs": [
    {
     "data": {
      "text/plain": [
       "tensor([0.9547, 0.9819, 0.9602, 0.9420, 0.9379, 0.9755], device='cuda:0')"
      ]
     },
     "execution_count": 64,
     "metadata": {},
     "output_type": "execute_result"
    }
   ],
   "source": [
    "consistency"
   ]
  },
  {
   "cell_type": "code",
   "execution_count": 65,
   "metadata": {},
   "outputs": [],
   "source": [
    "handler.visualiser = ModelVisualiser(handler.model, handler.dataloader.test, **handler.config[\"vis_params\"])\n",
    "figure_params = {\"figsize\":(8,2), \"nrows\":3, \"N\":100, \"markersize\":10, \"font_scale\":10, \"vmin\":0.0, \"vmax\":1.0}"
   ]
  },
  {
   "cell_type": "code",
   "execution_count": 66,
   "metadata": {
    "scrolled": true
   },
   "outputs": [
    {
     "data": {
      "image/png": "[encoded data removed]",
      "text/plain": [
       "<Figure size 576x144 with 2 Axes>"
      ]
     },
     "metadata": {
      "needs_background": "light"
     },
     "output_type": "display_data"
    },
    {
     "data": {
      "image/png": "[encoded data removed]",
      "text/plain": [
       "<Figure size 576x144 with 2 Axes>"
      ]
     },
     "metadata": {
      "needs_background": "light"
     },
     "output_type": "display_data"
    }
   ],
   "source": [
    "fig = handler.visualiser.plot_heatmap(consistency.view(1,-1).cpu(), \n",
    "                                      title=\"Self consistency\", \n",
    "                                      threshold=0., \n",
    "                                      **figure_params)\n",
    "fig2 = handler.visualiser.plot_heatmap(std_dev.view(2,6).cpu(), \n",
    "                                      title=\"Standard Deviation of marginals (original and responses)\", \n",
    "                                      threshold=0., figsize=(8,2))"
   ]
  },
  {
   "cell_type": "code",
   "execution_count": null,
   "metadata": {},
   "outputs": [],
   "source": []
  },
  {
   "cell_type": "code",
   "execution_count": null,
   "metadata": {},
   "outputs": [],
   "source": []
  }
 ],
 "metadata": {
  "kernelspec": {
   "display_name": "Python 3",
   "language": "python",
   "name": "python3"
  },
  "language_info": {
   "codemirror_mode": {
    "name": "ipython",
    "version": 3
   },
   "file_extension": ".py",
   "mimetype": "text/x-python",
   "name": "python",
   "nbconvert_exporter": "python",
   "pygments_lexer": "ipython3",
   "version": "3.7.5"
  }
 },
 "nbformat": 4,
 "nbformat_minor": 2
}
