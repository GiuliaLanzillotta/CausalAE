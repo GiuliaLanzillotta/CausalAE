{
 "cells": [
  {
   "cell_type": "markdown",
   "metadata": {},
   "source": [
    "Scoring the models and visualising the scores"
   ]
  },
  {
   "cell_type": "code",
   "execution_count": null,
   "metadata": {},
   "outputs": [],
   "source": [
    "from pathlib import Path\n",
    "import os\n",
    "_cwd = os.getcwd()\n",
    "os.chdir(Path(_cwd)/'..') # .\\SAE\\\n",
    "os.getcwd()\n",
    "fig_path = Path(\"./figures/\")\n",
    "if not os.path.exists(fig_path):\n",
    "    os.makedirs(fig_path)\n",
    "\n",
    "import numpy as np\n",
    "import torch\n",
    "from matplotlib.lines import Line2D\n",
    "import matplotlib.pyplot as plt\n",
    "import itertools\n",
    "import pandas as pd\n",
    "import seaborn as sns \n",
    "import matplotlib.pyplot as plt\n",
    "import pandas as pd\n",
    "import networkx as nx\n",
    "\n",
    "%matplotlib inline\n",
    "\n",
    "# ------- internal imports\n",
    "from models import GenerativeAE\n",
    "import models, metrics, experiments, datasets\n",
    "from metrics import score_disentanglement \n",
    "from experiments import EvaluationManager\n",
    "from experiments.EvaluationManager import ModelHandler, VisualModelHandler, VectorModelHandler\n",
    "from datasets import synth_dataset \n",
    "import visualisations\n",
    "from visualisations import visualise_data, visualise_model"
   ]
  },
  {
   "cell_type": "markdown",
   "metadata": {},
   "source": [
    "# Scoring "
   ]
  },
  {
   "cell_type": "markdown",
   "metadata": {},
   "source": [
    "## Visual datasets"
   ]
  },
  {
   "cell_type": "code",
   "execution_count": null,
   "metadata": {},
   "outputs": [],
   "source": [
    "#load all scores and save them in lists \n",
    "#extract relevan numbers from the lists and form a df\n",
    "# plot df with seaborn\n",
    "model_names = [\"BaseSAE\",\"ESAE\",\"RSAE\",\"RAE\", \"BetaVAE\"]\n",
    "model_versions = [[\"standardS\"], [\"standardS\"], [\"standardS\"],[\"standardS\"], [\"standardS\"]]\n",
    "\n",
    "model_params=[]\n",
    "for i,model_n in enumerate(model_names): \n",
    "    for model_v in model_versions[i]:\n",
    "        _params = {\"model_name\":model_n,\n",
    "                   \"model_version\":model_v,\n",
    "                   \"data\":\"MNIST\"}\n",
    "        model_params.append(_params)"
   ]
  },
  {
   "cell_type": "code",
   "execution_count": null,
   "metadata": {},
   "outputs": [],
   "source": [
    "scores=[]\n",
    "for params in model_params:\n",
    "        handler = (VectorModelHandler.from_config(**params, verbose=False))\n",
    "        handler.config[\"logging_params\"][\"save_dir\"] = \"./logs\"\n",
    "        scores.append(handler.load_scores(name=\"scoring\"))"
   ]
  },
  {
   "cell_type": "code",
   "execution_count": null,
   "metadata": {},
   "outputs": [],
   "source": [
    "# fill the dataframe\n",
    "scores_df = pd.DataFrame()\n",
    "scores_df[\"model_name\"] = [params[\"model_name\"] for params in model_params]\n",
    "scores_df[\"model_version\"] = [params[\"model_version\"] for params in model_params]\n",
    "for i,score_set in enumerate(scores):\n",
    "    try: \n",
    "        for k,v in score_set.items():\n",
    "            scores_df.loc[i,k] = v\n",
    "    except AttributeError: \n",
    "        continue"
   ]
  },
  {
   "cell_type": "code",
   "execution_count": null,
   "metadata": {},
   "outputs": [],
   "source": [
    "scores_df.drop(\"CAT\", axis=1)"
   ]
  },
  {
   "cell_type": "code",
   "execution_count": null,
   "metadata": {},
   "outputs": [],
   "source": [
    "scores_df.to_csv(\"Scores.csv\")"
   ]
  },
  {
   "cell_type": "code",
   "execution_count": null,
   "metadata": {},
   "outputs": [],
   "source": [
    "scores_df = pd.read_csv(\"Scores.csv\", index_col=0)"
   ]
  },
  {
   "cell_type": "markdown",
   "metadata": {},
   "source": [
    "## Vector datasets"
   ]
  },
  {
   "cell_type": "code",
   "execution_count": 42,
   "metadata": {},
   "outputs": [],
   "source": [
    "#load all scores and save them in lists \n",
    "#extract relevan numbers from the lists and form a df\n",
    "# plot df with seaborn\n",
    "data_versions = [\"standard\",\"discrete\",\"continuous\",\"big\"]\n",
    "model_names = [\"VecESAE\",\"VecSAE\",\"VecVAE\",\"VecRSAE\",\"VecRAE\",\"VecAE\"]\n",
    "\n",
    "model_versions = [[\"standard\"], [\"standard\", \"full\"], [\"standard\"], [\"standard\",\"full\"], [\"standard\"], [\"standard\"]]\n",
    "\n",
    "model_params=[]\n",
    "for data_v in data_versions:\n",
    "    for i,model_n in enumerate(model_names): \n",
    "        for model_v in model_versions[i]:\n",
    "            _params = {\"model_name\":model_n,\n",
    "                       \"model_version\":model_v,\n",
    "                       \"data\":\"SynthVec\",\n",
    "                       \"data_version\":data_v}\n",
    "            model_params.append(_params)"
   ]
  },
  {
   "cell_type": "code",
   "execution_count": 43,
   "metadata": {
    "scrolled": true
   },
   "outputs": [
    {
     "name": "stdout",
     "output_type": "stream",
     "text": [
      "----------Opening SynthVec dataset version standard / train----------\n",
      "Files already there. Proceed to reading.\n",
      "Loading generated data.\n",
      "Loading metadata\n",
      "Reading quantiles file\n",
      "Dataset loaded.\n",
      "----------Opening SynthVec dataset version standard / test----------\n",
      "Files already there. Proceed to reading.\n",
      "Loading generated data.\n",
      "Loading metadata\n",
      "Reading quantiles file\n",
      "Dataset loaded.\n",
      "VecESAE model hanlder loaded.\n",
      "----------Opening SynthVec dataset version standard / train----------\n",
      "Files already there. Proceed to reading.\n",
      "Loading generated data.\n",
      "Loading metadata\n",
      "Reading quantiles file\n",
      "Dataset loaded.\n",
      "----------Opening SynthVec dataset version standard / test----------\n",
      "Files already there. Proceed to reading.\n",
      "Loading generated data.\n",
      "Loading metadata\n",
      "Reading quantiles file\n",
      "Dataset loaded.\n",
      "VecSAE model hanlder loaded.\n",
      "configs/models/VecSAE/full.yaml\n",
      "----------Opening SynthVec dataset version standard / train----------\n",
      "Files already there. Proceed to reading.\n",
      "Loading generated data.\n",
      "Loading metadata\n",
      "Reading quantiles file\n",
      "Dataset loaded.\n",
      "----------Opening SynthVec dataset version standard / test----------\n",
      "Files already there. Proceed to reading.\n",
      "Loading generated data.\n",
      "Loading metadata\n",
      "Reading quantiles file\n",
      "Dataset loaded.\n",
      "VecSAE model hanlder loaded.\n",
      "----------Opening SynthVec dataset version standard / train----------\n",
      "Files already there. Proceed to reading.\n",
      "Loading generated data.\n",
      "Loading metadata\n",
      "Reading quantiles file\n",
      "Dataset loaded.\n",
      "----------Opening SynthVec dataset version standard / test----------\n",
      "Files already there. Proceed to reading.\n",
      "Loading generated data.\n",
      "Loading metadata\n",
      "Reading quantiles file\n",
      "Dataset loaded.\n",
      "VecVAE model hanlder loaded.\n",
      "----------Opening SynthVec dataset version standard / train----------\n",
      "Files already there. Proceed to reading.\n",
      "Loading generated data.\n",
      "Loading metadata\n",
      "Reading quantiles file\n",
      "Dataset loaded.\n",
      "----------Opening SynthVec dataset version standard / test----------\n",
      "Files already there. Proceed to reading.\n",
      "Loading generated data.\n",
      "Loading metadata\n",
      "Reading quantiles file\n",
      "Dataset loaded.\n",
      "VecRSAE model hanlder loaded.\n",
      "configs/models/VecRSAE/full.yaml\n",
      "----------Opening SynthVec dataset version standard / train----------\n",
      "Files already there. Proceed to reading.\n",
      "Loading generated data.\n",
      "Loading metadata\n",
      "Reading quantiles file\n",
      "Dataset loaded.\n",
      "----------Opening SynthVec dataset version standard / test----------\n",
      "Files already there. Proceed to reading.\n",
      "Loading generated data.\n",
      "Loading metadata\n",
      "Reading quantiles file\n",
      "Dataset loaded.\n",
      "VecRSAE model hanlder loaded.\n",
      "----------Opening SynthVec dataset version standard / train----------\n",
      "Files already there. Proceed to reading.\n",
      "Loading generated data.\n",
      "Loading metadata\n",
      "Reading quantiles file\n",
      "Dataset loaded.\n",
      "----------Opening SynthVec dataset version standard / test----------\n",
      "Files already there. Proceed to reading.\n",
      "Loading generated data.\n",
      "Loading metadata\n",
      "Reading quantiles file\n",
      "Dataset loaded.\n",
      "VecRAE model hanlder loaded.\n",
      "----------Opening SynthVec dataset version standard / train----------\n",
      "Files already there. Proceed to reading.\n",
      "Loading generated data.\n",
      "Loading metadata\n",
      "Reading quantiles file\n",
      "Dataset loaded.\n",
      "----------Opening SynthVec dataset version standard / test----------\n",
      "Files already there. Proceed to reading.\n",
      "Loading generated data.\n",
      "Loading metadata\n",
      "Reading quantiles file\n",
      "Dataset loaded.\n",
      "VecAE model hanlder loaded.\n",
      "----------Opening SynthVec dataset version discrete / train----------\n",
      "Files already there. Proceed to reading.\n",
      "Loading generated data.\n",
      "Loading metadata\n",
      "Reading quantiles file\n",
      "Dataset loaded.\n",
      "----------Opening SynthVec dataset version discrete / test----------\n",
      "Files already there. Proceed to reading.\n",
      "Loading generated data.\n",
      "Loading metadata\n",
      "Reading quantiles file\n",
      "Dataset loaded.\n",
      "VecESAE model hanlder loaded.\n",
      "----------Opening SynthVec dataset version discrete / train----------\n",
      "Files already there. Proceed to reading.\n",
      "Loading generated data.\n",
      "Loading metadata\n",
      "Reading quantiles file\n",
      "Dataset loaded.\n",
      "----------Opening SynthVec dataset version discrete / test----------\n",
      "Files already there. Proceed to reading.\n",
      "Loading generated data.\n",
      "Loading metadata\n",
      "Reading quantiles file\n",
      "Dataset loaded.\n",
      "VecSAE model hanlder loaded.\n",
      "configs/models/VecSAE/full.yaml\n",
      "----------Opening SynthVec dataset version discrete / train----------\n",
      "Files already there. Proceed to reading.\n",
      "Loading generated data.\n",
      "Loading metadata\n",
      "Reading quantiles file\n",
      "Dataset loaded.\n",
      "----------Opening SynthVec dataset version discrete / test----------\n",
      "Files already there. Proceed to reading.\n",
      "Loading generated data.\n",
      "Loading metadata\n",
      "Reading quantiles file\n",
      "Dataset loaded.\n",
      "VecSAE model hanlder loaded.\n",
      "----------Opening SynthVec dataset version discrete / train----------\n",
      "Files already there. Proceed to reading.\n",
      "Loading generated data.\n",
      "Loading metadata\n",
      "Reading quantiles file\n",
      "Dataset loaded.\n",
      "----------Opening SynthVec dataset version discrete / test----------\n",
      "Files already there. Proceed to reading.\n",
      "Loading generated data.\n",
      "Loading metadata\n",
      "Reading quantiles file\n",
      "Dataset loaded.\n",
      "VecVAE model hanlder loaded.\n",
      "----------Opening SynthVec dataset version discrete / train----------\n",
      "Files already there. Proceed to reading.\n",
      "Loading generated data.\n",
      "Loading metadata\n",
      "Reading quantiles file\n",
      "Dataset loaded.\n",
      "----------Opening SynthVec dataset version discrete / test----------\n",
      "Files already there. Proceed to reading.\n",
      "Loading generated data.\n",
      "Loading metadata\n",
      "Reading quantiles file\n",
      "Dataset loaded.\n",
      "VecRSAE model hanlder loaded.\n",
      "configs/models/VecRSAE/full.yaml\n",
      "----------Opening SynthVec dataset version discrete / train----------\n",
      "Files already there. Proceed to reading.\n",
      "Loading generated data.\n",
      "Loading metadata\n",
      "Reading quantiles file\n",
      "Dataset loaded.\n",
      "----------Opening SynthVec dataset version discrete / test----------\n",
      "Files already there. Proceed to reading.\n",
      "Loading generated data.\n",
      "Loading metadata\n",
      "Reading quantiles file\n",
      "Dataset loaded.\n",
      "VecRSAE model hanlder loaded.\n",
      "----------Opening SynthVec dataset version discrete / train----------\n",
      "Files already there. Proceed to reading.\n",
      "Loading generated data.\n",
      "Loading metadata\n",
      "Reading quantiles file\n",
      "Dataset loaded.\n",
      "----------Opening SynthVec dataset version discrete / test----------\n",
      "Files already there. Proceed to reading.\n",
      "Loading generated data.\n",
      "Loading metadata\n",
      "Reading quantiles file\n",
      "Dataset loaded.\n",
      "VecRAE model hanlder loaded.\n",
      "----------Opening SynthVec dataset version discrete / train----------\n",
      "Files already there. Proceed to reading.\n",
      "Loading generated data.\n",
      "Loading metadata\n",
      "Reading quantiles file\n",
      "Dataset loaded.\n",
      "----------Opening SynthVec dataset version discrete / test----------\n",
      "Files already there. Proceed to reading.\n",
      "Loading generated data.\n",
      "Loading metadata\n",
      "Reading quantiles file\n",
      "Dataset loaded.\n",
      "VecAE model hanlder loaded.\n",
      "----------Opening SynthVec dataset version continuous / train----------\n",
      "Files already there. Proceed to reading.\n",
      "Loading generated data.\n",
      "Loading metadata\n",
      "Reading quantiles file\n",
      "Dataset loaded.\n",
      "----------Opening SynthVec dataset version continuous / test----------\n",
      "Files already there. Proceed to reading.\n",
      "Loading generated data.\n",
      "Loading metadata\n",
      "Reading quantiles file\n",
      "Dataset loaded.\n",
      "VecESAE model hanlder loaded.\n",
      "----------Opening SynthVec dataset version continuous / train----------\n",
      "Files already there. Proceed to reading.\n",
      "Loading generated data.\n",
      "Loading metadata\n",
      "Reading quantiles file\n",
      "Dataset loaded.\n",
      "----------Opening SynthVec dataset version continuous / test----------\n",
      "Files already there. Proceed to reading.\n",
      "Loading generated data.\n",
      "Loading metadata\n",
      "Reading quantiles file\n",
      "Dataset loaded.\n",
      "VecSAE model hanlder loaded.\n",
      "configs/models/VecSAE/full.yaml\n",
      "----------Opening SynthVec dataset version continuous / train----------\n",
      "Files already there. Proceed to reading.\n",
      "Loading generated data.\n",
      "Loading metadata\n",
      "Reading quantiles file\n",
      "Dataset loaded.\n",
      "----------Opening SynthVec dataset version continuous / test----------\n",
      "Files already there. Proceed to reading.\n",
      "Loading generated data.\n",
      "Loading metadata\n",
      "Reading quantiles file\n",
      "Dataset loaded.\n",
      "VecSAE model hanlder loaded.\n",
      "----------Opening SynthVec dataset version continuous / train----------\n",
      "Files already there. Proceed to reading.\n",
      "Loading generated data.\n",
      "Loading metadata\n",
      "Reading quantiles file\n",
      "Dataset loaded.\n",
      "----------Opening SynthVec dataset version continuous / test----------\n",
      "Files already there. Proceed to reading.\n",
      "Loading generated data.\n",
      "Loading metadata\n",
      "Reading quantiles file\n",
      "Dataset loaded.\n"
     ]
    },
    {
     "name": "stdout",
     "output_type": "stream",
     "text": [
      "VecVAE model hanlder loaded.\n",
      "----------Opening SynthVec dataset version continuous / train----------\n",
      "Files already there. Proceed to reading.\n",
      "Loading generated data.\n",
      "Loading metadata\n",
      "Reading quantiles file\n",
      "Dataset loaded.\n",
      "----------Opening SynthVec dataset version continuous / test----------\n",
      "Files already there. Proceed to reading.\n",
      "Loading generated data.\n",
      "Loading metadata\n",
      "Reading quantiles file\n",
      "Dataset loaded.\n",
      "VecRSAE model hanlder loaded.\n",
      "configs/models/VecRSAE/full.yaml\n",
      "----------Opening SynthVec dataset version continuous / train----------\n",
      "Files already there. Proceed to reading.\n",
      "Loading generated data.\n",
      "Loading metadata\n",
      "Reading quantiles file\n",
      "Dataset loaded.\n",
      "----------Opening SynthVec dataset version continuous / test----------\n",
      "Files already there. Proceed to reading.\n",
      "Loading generated data.\n",
      "Loading metadata\n",
      "Reading quantiles file\n",
      "Dataset loaded.\n",
      "VecRSAE model hanlder loaded.\n",
      "----------Opening SynthVec dataset version continuous / train----------\n",
      "Files already there. Proceed to reading.\n",
      "Loading generated data.\n",
      "Loading metadata\n",
      "Reading quantiles file\n",
      "Dataset loaded.\n",
      "----------Opening SynthVec dataset version continuous / test----------\n",
      "Files already there. Proceed to reading.\n",
      "Loading generated data.\n",
      "Loading metadata\n",
      "Reading quantiles file\n",
      "Dataset loaded.\n",
      "VecRAE model hanlder loaded.\n",
      "----------Opening SynthVec dataset version continuous / train----------\n",
      "Files already there. Proceed to reading.\n",
      "Loading generated data.\n",
      "Loading metadata\n",
      "Reading quantiles file\n",
      "Dataset loaded.\n",
      "----------Opening SynthVec dataset version continuous / test----------\n",
      "Files already there. Proceed to reading.\n",
      "Loading generated data.\n",
      "Loading metadata\n",
      "Reading quantiles file\n",
      "Dataset loaded.\n",
      "VecAE model hanlder loaded.\n",
      "----------Opening SynthVec dataset version big / train----------\n",
      "Files already there. Proceed to reading.\n",
      "Loading generated data.\n",
      "Loading metadata\n",
      "Reading quantiles file\n",
      "Dataset loaded.\n",
      "----------Opening SynthVec dataset version big / test----------\n",
      "Files already there. Proceed to reading.\n",
      "Loading generated data.\n",
      "Loading metadata\n",
      "Reading quantiles file\n",
      "Dataset loaded.\n",
      "VecESAE model hanlder loaded.\n",
      "----------Opening SynthVec dataset version big / train----------\n",
      "Files already there. Proceed to reading.\n",
      "Loading generated data.\n",
      "Loading metadata\n",
      "Reading quantiles file\n",
      "Dataset loaded.\n",
      "----------Opening SynthVec dataset version big / test----------\n",
      "Files already there. Proceed to reading.\n",
      "Loading generated data.\n",
      "Loading metadata\n",
      "Reading quantiles file\n",
      "Dataset loaded.\n",
      "VecSAE model hanlder loaded.\n",
      "configs/models/VecSAE/full.yaml\n",
      "----------Opening SynthVec dataset version big / train----------\n",
      "Files already there. Proceed to reading.\n",
      "Loading generated data.\n",
      "Loading metadata\n",
      "Reading quantiles file\n",
      "Dataset loaded.\n",
      "----------Opening SynthVec dataset version big / test----------\n",
      "Files already there. Proceed to reading.\n",
      "Loading generated data.\n",
      "Loading metadata\n",
      "Reading quantiles file\n",
      "Dataset loaded.\n",
      "VecSAE model hanlder loaded.\n",
      "----------Opening SynthVec dataset version big / train----------\n",
      "Files already there. Proceed to reading.\n",
      "Loading generated data.\n",
      "Loading metadata\n",
      "Reading quantiles file\n",
      "Dataset loaded.\n",
      "----------Opening SynthVec dataset version big / test----------\n",
      "Files already there. Proceed to reading.\n",
      "Loading generated data.\n",
      "Loading metadata\n",
      "Reading quantiles file\n",
      "Dataset loaded.\n",
      "VecVAE model hanlder loaded.\n",
      "----------Opening SynthVec dataset version big / train----------\n",
      "Files already there. Proceed to reading.\n",
      "Loading generated data.\n",
      "Loading metadata\n",
      "Reading quantiles file\n",
      "Dataset loaded.\n",
      "----------Opening SynthVec dataset version big / test----------\n",
      "Files already there. Proceed to reading.\n",
      "Loading generated data.\n",
      "Loading metadata\n",
      "Reading quantiles file\n",
      "Dataset loaded.\n",
      "VecRSAE model hanlder loaded.\n",
      "configs/models/VecRSAE/full.yaml\n",
      "----------Opening SynthVec dataset version big / train----------\n",
      "Files already there. Proceed to reading.\n",
      "Loading generated data.\n",
      "Loading metadata\n",
      "Reading quantiles file\n",
      "Dataset loaded.\n",
      "----------Opening SynthVec dataset version big / test----------\n",
      "Files already there. Proceed to reading.\n",
      "Loading generated data.\n",
      "Loading metadata\n",
      "Reading quantiles file\n",
      "Dataset loaded.\n",
      "VecRSAE model hanlder loaded.\n",
      "----------Opening SynthVec dataset version big / train----------\n",
      "Files already there. Proceed to reading.\n",
      "Loading generated data.\n",
      "Loading metadata\n",
      "Reading quantiles file\n",
      "Dataset loaded.\n",
      "----------Opening SynthVec dataset version big / test----------\n",
      "Files already there. Proceed to reading.\n",
      "Loading generated data.\n",
      "Loading metadata\n",
      "Reading quantiles file\n",
      "Dataset loaded.\n",
      "VecRAE model hanlder loaded.\n",
      "----------Opening SynthVec dataset version big / train----------\n",
      "Files already there. Proceed to reading.\n",
      "Loading generated data.\n",
      "Loading metadata\n",
      "Reading quantiles file\n",
      "Dataset loaded.\n",
      "----------Opening SynthVec dataset version big / test----------\n",
      "Files already there. Proceed to reading.\n",
      "Loading generated data.\n",
      "Loading metadata\n",
      "Reading quantiles file\n",
      "Dataset loaded.\n",
      "VecAE model hanlder loaded.\n"
     ]
    }
   ],
   "source": [
    "# collect the handlers\n",
    "scores=[]\n",
    "for params in model_params:\n",
    "        handler = (VectorModelHandler.from_config(**params, verbose=False))\n",
    "        handler.config[\"logging_params\"][\"save_dir\"] = \"./logs\"\n",
    "        scores.append(handler.load_scores(name=\"scoring_noises\"))"
   ]
  },
  {
   "cell_type": "code",
   "execution_count": 44,
   "metadata": {},
   "outputs": [],
   "source": [
    "# fill the dataframe\n",
    "scores_df = pd.DataFrame()\n",
    "scores_df[\"model_name\"] = [params[\"model_name\"] for params in model_params]\n",
    "scores_df[\"model_version\"] = [params[\"model_version\"] for params in model_params]\n",
    "scores_df[\"data_version\"] = [params[\"data_version\"] for params in model_params]\n",
    "for i,score_set in enumerate(scores):\n",
    "    try: \n",
    "        for k,v in score_set.items():\n",
    "            scores_df.loc[i,k] = v\n",
    "    except AttributeError: \n",
    "        continue"
   ]
  },
  {
   "cell_type": "code",
   "execution_count": 45,
   "metadata": {
    "scrolled": true
   },
   "outputs": [],
   "source": [
    "scores_df.to_csv(\"VecScoresNoises.csv\")"
   ]
  },
  {
   "cell_type": "code",
   "execution_count": 54,
   "metadata": {
    "scrolled": true
   },
   "outputs": [],
   "source": [
    "scores_df = pd.read_csv(\"VecScoresNoises.csv\", index_col=0)"
   ]
  },
  {
   "cell_type": "markdown",
   "metadata": {},
   "source": [
    "## Visualise scores"
   ]
  },
  {
   "cell_type": "code",
   "execution_count": 55,
   "metadata": {},
   "outputs": [
    {
     "data": {
      "text/html": [
       "<div>\n",
       "<style scoped>\n",
       "    .dataframe tbody tr th:only-of-type {\n",
       "        vertical-align: middle;\n",
       "    }\n",
       "\n",
       "    .dataframe tbody tr th {\n",
       "        vertical-align: top;\n",
       "    }\n",
       "\n",
       "    .dataframe thead th {\n",
       "        text-align: right;\n",
       "    }\n",
       "</style>\n",
       "<table border=\"1\" class=\"dataframe\">\n",
       "  <thead>\n",
       "    <tr style=\"text-align: right;\">\n",
       "      <th></th>\n",
       "      <th>model_name</th>\n",
       "      <th>model_version</th>\n",
       "      <th>data_version</th>\n",
       "      <th>DCI</th>\n",
       "      <th>IRS</th>\n",
       "      <th>MIG</th>\n",
       "      <th>ModExp</th>\n",
       "      <th>SAP</th>\n",
       "    </tr>\n",
       "  </thead>\n",
       "  <tbody>\n",
       "    <tr>\n",
       "      <th>0</th>\n",
       "      <td>VecESAE</td>\n",
       "      <td>standard</td>\n",
       "      <td>standard</td>\n",
       "      <td>0.122925</td>\n",
       "      <td>0.726162</td>\n",
       "      <td>0.067050</td>\n",
       "      <td>NaN</td>\n",
       "      <td>0.000000</td>\n",
       "    </tr>\n",
       "    <tr>\n",
       "      <th>1</th>\n",
       "      <td>VecSAE</td>\n",
       "      <td>standard</td>\n",
       "      <td>standard</td>\n",
       "      <td>0.049968</td>\n",
       "      <td>0.639650</td>\n",
       "      <td>0.009093</td>\n",
       "      <td>NaN</td>\n",
       "      <td>0.007600</td>\n",
       "    </tr>\n",
       "    <tr>\n",
       "      <th>2</th>\n",
       "      <td>VecSAE</td>\n",
       "      <td>full</td>\n",
       "      <td>standard</td>\n",
       "      <td>0.069999</td>\n",
       "      <td>0.704060</td>\n",
       "      <td>0.020525</td>\n",
       "      <td>NaN</td>\n",
       "      <td>0.030400</td>\n",
       "    </tr>\n",
       "    <tr>\n",
       "      <th>3</th>\n",
       "      <td>VecVAE</td>\n",
       "      <td>standard</td>\n",
       "      <td>standard</td>\n",
       "      <td>0.140544</td>\n",
       "      <td>0.746559</td>\n",
       "      <td>0.026357</td>\n",
       "      <td>NaN</td>\n",
       "      <td>0.000000</td>\n",
       "    </tr>\n",
       "    <tr>\n",
       "      <th>4</th>\n",
       "      <td>VecRSAE</td>\n",
       "      <td>standard</td>\n",
       "      <td>standard</td>\n",
       "      <td>0.086289</td>\n",
       "      <td>0.745761</td>\n",
       "      <td>0.057952</td>\n",
       "      <td>0.857951</td>\n",
       "      <td>0.000000</td>\n",
       "    </tr>\n",
       "    <tr>\n",
       "      <th>5</th>\n",
       "      <td>VecRSAE</td>\n",
       "      <td>full</td>\n",
       "      <td>standard</td>\n",
       "      <td>0.080709</td>\n",
       "      <td>0.706114</td>\n",
       "      <td>0.008251</td>\n",
       "      <td>NaN</td>\n",
       "      <td>0.000000</td>\n",
       "    </tr>\n",
       "    <tr>\n",
       "      <th>6</th>\n",
       "      <td>VecRAE</td>\n",
       "      <td>standard</td>\n",
       "      <td>standard</td>\n",
       "      <td>0.140544</td>\n",
       "      <td>0.746559</td>\n",
       "      <td>0.026357</td>\n",
       "      <td>NaN</td>\n",
       "      <td>0.000000</td>\n",
       "    </tr>\n",
       "    <tr>\n",
       "      <th>7</th>\n",
       "      <td>VecAE</td>\n",
       "      <td>standard</td>\n",
       "      <td>standard</td>\n",
       "      <td>0.140544</td>\n",
       "      <td>0.746559</td>\n",
       "      <td>0.026357</td>\n",
       "      <td>NaN</td>\n",
       "      <td>0.000000</td>\n",
       "    </tr>\n",
       "    <tr>\n",
       "      <th>8</th>\n",
       "      <td>VecESAE</td>\n",
       "      <td>standard</td>\n",
       "      <td>discrete</td>\n",
       "      <td>0.102587</td>\n",
       "      <td>0.381809</td>\n",
       "      <td>0.018122</td>\n",
       "      <td>0.898300</td>\n",
       "      <td>0.001750</td>\n",
       "    </tr>\n",
       "    <tr>\n",
       "      <th>9</th>\n",
       "      <td>VecSAE</td>\n",
       "      <td>standard</td>\n",
       "      <td>discrete</td>\n",
       "      <td>0.033469</td>\n",
       "      <td>0.459713</td>\n",
       "      <td>0.044952</td>\n",
       "      <td>0.892346</td>\n",
       "      <td>0.022000</td>\n",
       "    </tr>\n",
       "    <tr>\n",
       "      <th>10</th>\n",
       "      <td>VecSAE</td>\n",
       "      <td>full</td>\n",
       "      <td>discrete</td>\n",
       "      <td>0.016622</td>\n",
       "      <td>0.496298</td>\n",
       "      <td>0.000866</td>\n",
       "      <td>0.983358</td>\n",
       "      <td>0.020500</td>\n",
       "    </tr>\n",
       "    <tr>\n",
       "      <th>11</th>\n",
       "      <td>VecVAE</td>\n",
       "      <td>standard</td>\n",
       "      <td>discrete</td>\n",
       "      <td>0.075848</td>\n",
       "      <td>0.401041</td>\n",
       "      <td>0.026578</td>\n",
       "      <td>0.818503</td>\n",
       "      <td>0.005000</td>\n",
       "    </tr>\n",
       "    <tr>\n",
       "      <th>12</th>\n",
       "      <td>VecRSAE</td>\n",
       "      <td>standard</td>\n",
       "      <td>discrete</td>\n",
       "      <td>0.061703</td>\n",
       "      <td>0.404946</td>\n",
       "      <td>0.017505</td>\n",
       "      <td>0.886779</td>\n",
       "      <td>0.003500</td>\n",
       "    </tr>\n",
       "    <tr>\n",
       "      <th>13</th>\n",
       "      <td>VecRSAE</td>\n",
       "      <td>full</td>\n",
       "      <td>discrete</td>\n",
       "      <td>0.055081</td>\n",
       "      <td>0.339588</td>\n",
       "      <td>0.012076</td>\n",
       "      <td>0.866888</td>\n",
       "      <td>0.000000</td>\n",
       "    </tr>\n",
       "    <tr>\n",
       "      <th>14</th>\n",
       "      <td>VecRAE</td>\n",
       "      <td>standard</td>\n",
       "      <td>discrete</td>\n",
       "      <td>0.075848</td>\n",
       "      <td>0.401041</td>\n",
       "      <td>0.026578</td>\n",
       "      <td>0.818503</td>\n",
       "      <td>0.005000</td>\n",
       "    </tr>\n",
       "    <tr>\n",
       "      <th>15</th>\n",
       "      <td>VecAE</td>\n",
       "      <td>standard</td>\n",
       "      <td>discrete</td>\n",
       "      <td>0.075848</td>\n",
       "      <td>0.401041</td>\n",
       "      <td>0.026578</td>\n",
       "      <td>0.818503</td>\n",
       "      <td>0.005000</td>\n",
       "    </tr>\n",
       "    <tr>\n",
       "      <th>16</th>\n",
       "      <td>VecESAE</td>\n",
       "      <td>standard</td>\n",
       "      <td>continuous</td>\n",
       "      <td>0.113150</td>\n",
       "      <td>0.778653</td>\n",
       "      <td>0.019786</td>\n",
       "      <td>NaN</td>\n",
       "      <td>0.065111</td>\n",
       "    </tr>\n",
       "    <tr>\n",
       "      <th>17</th>\n",
       "      <td>VecSAE</td>\n",
       "      <td>standard</td>\n",
       "      <td>continuous</td>\n",
       "      <td>0.089698</td>\n",
       "      <td>0.876533</td>\n",
       "      <td>0.015810</td>\n",
       "      <td>NaN</td>\n",
       "      <td>0.112000</td>\n",
       "    </tr>\n",
       "    <tr>\n",
       "      <th>18</th>\n",
       "      <td>VecSAE</td>\n",
       "      <td>full</td>\n",
       "      <td>continuous</td>\n",
       "      <td>0.193942</td>\n",
       "      <td>0.892387</td>\n",
       "      <td>0.037800</td>\n",
       "      <td>NaN</td>\n",
       "      <td>0.036889</td>\n",
       "    </tr>\n",
       "    <tr>\n",
       "      <th>19</th>\n",
       "      <td>VecVAE</td>\n",
       "      <td>standard</td>\n",
       "      <td>continuous</td>\n",
       "      <td>0.157965</td>\n",
       "      <td>0.879182</td>\n",
       "      <td>0.012652</td>\n",
       "      <td>NaN</td>\n",
       "      <td>0.001778</td>\n",
       "    </tr>\n",
       "    <tr>\n",
       "      <th>20</th>\n",
       "      <td>VecRSAE</td>\n",
       "      <td>standard</td>\n",
       "      <td>continuous</td>\n",
       "      <td>0.200234</td>\n",
       "      <td>0.937787</td>\n",
       "      <td>0.035757</td>\n",
       "      <td>NaN</td>\n",
       "      <td>0.012800</td>\n",
       "    </tr>\n",
       "    <tr>\n",
       "      <th>21</th>\n",
       "      <td>VecRSAE</td>\n",
       "      <td>full</td>\n",
       "      <td>continuous</td>\n",
       "      <td>0.166612</td>\n",
       "      <td>0.844175</td>\n",
       "      <td>0.032861</td>\n",
       "      <td>NaN</td>\n",
       "      <td>0.000000</td>\n",
       "    </tr>\n",
       "    <tr>\n",
       "      <th>22</th>\n",
       "      <td>VecRAE</td>\n",
       "      <td>standard</td>\n",
       "      <td>continuous</td>\n",
       "      <td>0.157965</td>\n",
       "      <td>0.879182</td>\n",
       "      <td>0.012652</td>\n",
       "      <td>NaN</td>\n",
       "      <td>0.001778</td>\n",
       "    </tr>\n",
       "    <tr>\n",
       "      <th>23</th>\n",
       "      <td>VecAE</td>\n",
       "      <td>standard</td>\n",
       "      <td>continuous</td>\n",
       "      <td>0.157965</td>\n",
       "      <td>0.879182</td>\n",
       "      <td>0.012652</td>\n",
       "      <td>NaN</td>\n",
       "      <td>0.001778</td>\n",
       "    </tr>\n",
       "    <tr>\n",
       "      <th>24</th>\n",
       "      <td>VecESAE</td>\n",
       "      <td>standard</td>\n",
       "      <td>big</td>\n",
       "      <td>0.037670</td>\n",
       "      <td>0.763908</td>\n",
       "      <td>0.008802</td>\n",
       "      <td>NaN</td>\n",
       "      <td>0.000000</td>\n",
       "    </tr>\n",
       "    <tr>\n",
       "      <th>25</th>\n",
       "      <td>VecSAE</td>\n",
       "      <td>standard</td>\n",
       "      <td>big</td>\n",
       "      <td>0.009409</td>\n",
       "      <td>0.338792</td>\n",
       "      <td>0.000000</td>\n",
       "      <td>NaN</td>\n",
       "      <td>0.024800</td>\n",
       "    </tr>\n",
       "    <tr>\n",
       "      <th>26</th>\n",
       "      <td>VecSAE</td>\n",
       "      <td>full</td>\n",
       "      <td>big</td>\n",
       "      <td>0.007806</td>\n",
       "      <td>0.212437</td>\n",
       "      <td>0.000000</td>\n",
       "      <td>NaN</td>\n",
       "      <td>0.000000</td>\n",
       "    </tr>\n",
       "    <tr>\n",
       "      <th>27</th>\n",
       "      <td>VecVAE</td>\n",
       "      <td>standard</td>\n",
       "      <td>big</td>\n",
       "      <td>0.069700</td>\n",
       "      <td>0.146013</td>\n",
       "      <td>0.006116</td>\n",
       "      <td>NaN</td>\n",
       "      <td>0.098800</td>\n",
       "    </tr>\n",
       "    <tr>\n",
       "      <th>28</th>\n",
       "      <td>VecRSAE</td>\n",
       "      <td>standard</td>\n",
       "      <td>big</td>\n",
       "      <td>0.069352</td>\n",
       "      <td>0.940140</td>\n",
       "      <td>0.002636</td>\n",
       "      <td>NaN</td>\n",
       "      <td>0.008800</td>\n",
       "    </tr>\n",
       "    <tr>\n",
       "      <th>29</th>\n",
       "      <td>VecRSAE</td>\n",
       "      <td>full</td>\n",
       "      <td>big</td>\n",
       "      <td>0.067301</td>\n",
       "      <td>0.883202</td>\n",
       "      <td>0.007854</td>\n",
       "      <td>NaN</td>\n",
       "      <td>0.000400</td>\n",
       "    </tr>\n",
       "    <tr>\n",
       "      <th>30</th>\n",
       "      <td>VecRAE</td>\n",
       "      <td>standard</td>\n",
       "      <td>big</td>\n",
       "      <td>0.069700</td>\n",
       "      <td>0.146013</td>\n",
       "      <td>0.006116</td>\n",
       "      <td>NaN</td>\n",
       "      <td>0.098800</td>\n",
       "    </tr>\n",
       "    <tr>\n",
       "      <th>31</th>\n",
       "      <td>VecAE</td>\n",
       "      <td>standard</td>\n",
       "      <td>big</td>\n",
       "      <td>0.069700</td>\n",
       "      <td>0.146013</td>\n",
       "      <td>0.006116</td>\n",
       "      <td>NaN</td>\n",
       "      <td>0.098800</td>\n",
       "    </tr>\n",
       "  </tbody>\n",
       "</table>\n",
       "</div>"
      ],
      "text/plain": [
       "   model_name model_version data_version       DCI       IRS       MIG  \\\n",
       "0     VecESAE      standard     standard  0.122925  0.726162  0.067050   \n",
       "1      VecSAE      standard     standard  0.049968  0.639650  0.009093   \n",
       "2      VecSAE          full     standard  0.069999  0.704060  0.020525   \n",
       "3      VecVAE      standard     standard  0.140544  0.746559  0.026357   \n",
       "4     VecRSAE      standard     standard  0.086289  0.745761  0.057952   \n",
       "5     VecRSAE          full     standard  0.080709  0.706114  0.008251   \n",
       "6      VecRAE      standard     standard  0.140544  0.746559  0.026357   \n",
       "7       VecAE      standard     standard  0.140544  0.746559  0.026357   \n",
       "8     VecESAE      standard     discrete  0.102587  0.381809  0.018122   \n",
       "9      VecSAE      standard     discrete  0.033469  0.459713  0.044952   \n",
       "10     VecSAE          full     discrete  0.016622  0.496298  0.000866   \n",
       "11     VecVAE      standard     discrete  0.075848  0.401041  0.026578   \n",
       "12    VecRSAE      standard     discrete  0.061703  0.404946  0.017505   \n",
       "13    VecRSAE          full     discrete  0.055081  0.339588  0.012076   \n",
       "14     VecRAE      standard     discrete  0.075848  0.401041  0.026578   \n",
       "15      VecAE      standard     discrete  0.075848  0.401041  0.026578   \n",
       "16    VecESAE      standard   continuous  0.113150  0.778653  0.019786   \n",
       "17     VecSAE      standard   continuous  0.089698  0.876533  0.015810   \n",
       "18     VecSAE          full   continuous  0.193942  0.892387  0.037800   \n",
       "19     VecVAE      standard   continuous  0.157965  0.879182  0.012652   \n",
       "20    VecRSAE      standard   continuous  0.200234  0.937787  0.035757   \n",
       "21    VecRSAE          full   continuous  0.166612  0.844175  0.032861   \n",
       "22     VecRAE      standard   continuous  0.157965  0.879182  0.012652   \n",
       "23      VecAE      standard   continuous  0.157965  0.879182  0.012652   \n",
       "24    VecESAE      standard          big  0.037670  0.763908  0.008802   \n",
       "25     VecSAE      standard          big  0.009409  0.338792  0.000000   \n",
       "26     VecSAE          full          big  0.007806  0.212437  0.000000   \n",
       "27     VecVAE      standard          big  0.069700  0.146013  0.006116   \n",
       "28    VecRSAE      standard          big  0.069352  0.940140  0.002636   \n",
       "29    VecRSAE          full          big  0.067301  0.883202  0.007854   \n",
       "30     VecRAE      standard          big  0.069700  0.146013  0.006116   \n",
       "31      VecAE      standard          big  0.069700  0.146013  0.006116   \n",
       "\n",
       "      ModExp       SAP  \n",
       "0        NaN  0.000000  \n",
       "1        NaN  0.007600  \n",
       "2        NaN  0.030400  \n",
       "3        NaN  0.000000  \n",
       "4   0.857951  0.000000  \n",
       "5        NaN  0.000000  \n",
       "6        NaN  0.000000  \n",
       "7        NaN  0.000000  \n",
       "8   0.898300  0.001750  \n",
       "9   0.892346  0.022000  \n",
       "10  0.983358  0.020500  \n",
       "11  0.818503  0.005000  \n",
       "12  0.886779  0.003500  \n",
       "13  0.866888  0.000000  \n",
       "14  0.818503  0.005000  \n",
       "15  0.818503  0.005000  \n",
       "16       NaN  0.065111  \n",
       "17       NaN  0.112000  \n",
       "18       NaN  0.036889  \n",
       "19       NaN  0.001778  \n",
       "20       NaN  0.012800  \n",
       "21       NaN  0.000000  \n",
       "22       NaN  0.001778  \n",
       "23       NaN  0.001778  \n",
       "24       NaN  0.000000  \n",
       "25       NaN  0.024800  \n",
       "26       NaN  0.000000  \n",
       "27       NaN  0.098800  \n",
       "28       NaN  0.008800  \n",
       "29       NaN  0.000400  \n",
       "30       NaN  0.098800  \n",
       "31       NaN  0.098800  "
      ]
     },
     "execution_count": 55,
     "metadata": {},
     "output_type": "execute_result"
    }
   ],
   "source": [
    "scores_df"
   ]
  },
  {
   "cell_type": "code",
   "execution_count": null,
   "metadata": {},
   "outputs": [],
   "source": [
    "#TODO: adjust plotting for visual datasets"
   ]
  },
  {
   "cell_type": "code",
   "execution_count": 58,
   "metadata": {
    "scrolled": true
   },
   "outputs": [
    {
     "data": {
      "image/png": "[encoded data removed]",
      "text/plain": [
       "<Figure size 576x432 with 1 Axes>"
      ]
     },
     "metadata": {
      "needs_background": "light"
     },
     "output_type": "display_data"
    },
    {
     "data": {
      "image/png": "[encoded data removed]",
      "text/plain": [
       "<Figure size 576x432 with 1 Axes>"
      ]
     },
     "metadata": {
      "needs_background": "light"
     },
     "output_type": "display_data"
    },
    {
     "data": {
      "image/png": "[encoded data removed]",
      "text/plain": [
       "<Figure size 576x432 with 1 Axes>"
      ]
     },
     "metadata": {
      "needs_background": "light"
     },
     "output_type": "display_data"
    },
    {
     "data": {
      "image/png": "[encoded data removed]",
      "text/plain": [
       "<Figure size 576x432 with 1 Axes>"
      ]
     },
     "metadata": {
      "needs_background": "light"
     },
     "output_type": "display_data"
    }
   ],
   "source": [
    "for k in scores_df.columns[3:-1]: # orthogonality\n",
    "    fig = plt.figure(figsize=(8,6))\n",
    "    sns.boxplot(x='model_name',y=k,data=scores_df, hue=\"model_version\",\n",
    "                palette=\"Blues\")"
   ]
  },
  {
   "cell_type": "code",
   "execution_count": 59,
   "metadata": {
    "scrolled": true
   },
   "outputs": [
    {
     "data": {
      "image/png": "[encoded data removed]",
      "text/plain": [
       "<Figure size 576x432 with 1 Axes>"
      ]
     },
     "metadata": {
      "needs_background": "light"
     },
     "output_type": "display_data"
    },
    {
     "data": {
      "image/png": "[encoded data removed]",
      "text/plain": [
       "<Figure size 576x432 with 1 Axes>"
      ]
     },
     "metadata": {
      "needs_background": "light"
     },
     "output_type": "display_data"
    },
    {
     "data": {
      "image/png": "[encoded data removed]",
      "text/plain": [
       "<Figure size 576x432 with 1 Axes>"
      ]
     },
     "metadata": {
      "needs_background": "light"
     },
     "output_type": "display_data"
    },
    {
     "data": {
      "image/png": "[encoded data removed]",
      "text/plain": [
       "<Figure size 576x432 with 1 Axes>"
      ]
     },
     "metadata": {
      "needs_background": "light"
     },
     "output_type": "display_data"
    },
    {
     "data": {
      "image/png": "[encoded data removed]",
      "text/plain": [
       "<Figure size 576x432 with 1 Axes>"
      ]
     },
     "metadata": {
      "needs_background": "light"
     },
     "output_type": "display_data"
    }
   ],
   "source": [
    "for k in scores_df.columns[3:]: # orthogonality\n",
    "    fig = plt.figure(figsize=(8,6))\n",
    "    sns.boxplot(x='data_version',y=k,data=scores_df, palette=\"Greens\")"
   ]
  },
  {
   "cell_type": "code",
   "execution_count": 47,
   "metadata": {
    "scrolled": true
   },
   "outputs": [
    {
     "data": {
      "image/png": "[encoded data removed]",
      "text/plain": [
       "<Figure size 576x432 with 1 Axes>"
      ]
     },
     "metadata": {
      "needs_background": "light"
     },
     "output_type": "display_data"
    },
    {
     "data": {
      "image/png": "[encoded data removed]",
      "text/plain": [
       "<Figure size 576x432 with 1 Axes>"
      ]
     },
     "metadata": {
      "needs_background": "light"
     },
     "output_type": "display_data"
    },
    {
     "data": {
      "image/png": "[encoded data removed]",
      "text/plain": [
       "<Figure size 576x432 with 1 Axes>"
      ]
     },
     "metadata": {
      "needs_background": "light"
     },
     "output_type": "display_data"
    },
    {
     "data": {
      "image/png": "[encoded data removed]",
      "text/plain": [
       "<Figure size 576x432 with 1 Axes>"
      ]
     },
     "metadata": {
      "needs_background": "light"
     },
     "output_type": "display_data"
    },
    {
     "data": {
      "image/png": "[encoded data removed]",
      "text/plain": [
       "<Figure size 576x432 with 1 Axes>"
      ]
     },
     "metadata": {
      "needs_background": "light"
     },
     "output_type": "display_data"
    }
   ],
   "source": [
    "# finally visualising \n",
    "for k in scores_df.columns[3:]: # disentanglement\n",
    "    fig = plt.figure(figsize=(8,6))\n",
    "    sns.boxplot(x='model_name',y=k,data=scores_df, palette=\"Blues\")"
   ]
  },
  {
   "cell_type": "code",
   "execution_count": 57,
   "metadata": {},
   "outputs": [
    {
     "data": {
      "image/png": "[encoded data removed]",
      "text/plain": [
       "<Figure size 576x432 with 1 Axes>"
      ]
     },
     "metadata": {
      "needs_background": "light"
     },
     "output_type": "display_data"
    },
    {
     "data": {
      "image/png": "[encoded data removed]",
      "text/plain": [
       "<Figure size 576x432 with 1 Axes>"
      ]
     },
     "metadata": {
      "needs_background": "light"
     },
     "output_type": "display_data"
    },
    {
     "data": {
      "image/png": "[encoded data removed]",
      "text/plain": [
       "<Figure size 576x432 with 1 Axes>"
      ]
     },
     "metadata": {
      "needs_background": "light"
     },
     "output_type": "display_data"
    },
    {
     "data": {
      "image/png": "[encoded data removed]",
      "text/plain": [
       "<Figure size 576x432 with 1 Axes>"
      ]
     },
     "metadata": {
      "needs_background": "light"
     },
     "output_type": "display_data"
    }
   ],
   "source": [
    "# finally visualising \n",
    "for k in scores_df.columns[3:-1]: # disentanglement\n",
    "    fig = plt.figure(figsize=(8,6))\n",
    "    sns.boxplot(x='data_version',y=k,data=scores_df, palette=\"Greens\")"
   ]
  },
  {
   "cell_type": "code",
   "execution_count": null,
   "metadata": {},
   "outputs": [],
   "source": []
  }
 ],
 "metadata": {
  "kernelspec": {
   "display_name": "Python 3",
   "language": "python",
   "name": "python3"
  },
  "language_info": {
   "codemirror_mode": {
    "name": "ipython",
    "version": 3
   },
   "file_extension": ".py",
   "mimetype": "text/x-python",
   "name": "python",
   "nbconvert_exporter": "python",
   "pygments_lexer": "ipython3",
   "version": "3.7.5"
  }
 },
 "nbformat": 4,
 "nbformat_minor": 2
}
