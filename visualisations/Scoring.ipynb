{
 "cells": [
  {
   "cell_type": "markdown",
   "metadata": {},
   "source": [
    "Scoring the models and visualising the scores"
   ]
  },
  {
   "cell_type": "code",
   "execution_count": null,
   "metadata": {},
   "outputs": [],
   "source": [
    "from pathlib import Path\n",
    "import os\n",
    "_cwd = os.getcwd()\n",
    "os.chdir(Path(_cwd)/'..') # .\\SAE\\\n",
    "os.getcwd()\n",
    "fig_path = Path(\"./figures/\")\n",
    "if not os.path.exists(fig_path):\n",
    "    os.makedirs(fig_path)\n",
    "\n",
    "import numpy as np\n",
    "import torch\n",
    "from matplotlib.lines import Line2D\n",
    "import matplotlib.pyplot as plt\n",
    "import itertools\n",
    "import pandas as pd\n",
    "import seaborn as sns \n",
    "import matplotlib.pyplot as plt\n",
    "import pandas as pd\n",
    "import networkx as nx\n",
    "\n",
    "%matplotlib inline\n",
    "\n",
    "# ------- internal imports\n",
    "from models import GenerativeAE\n",
    "import models, metrics, experiments, datasets\n",
    "from metrics import score_disentanglement \n",
    "from experiments import EvaluationManager\n",
    "from experiments.EvaluationManager import ModelHandler, VisualModelHandler, VectorModelHandler\n",
    "from datasets import synth_dataset \n",
    "import visualisations\n",
    "from visualisations import visualise_data, visualise_model"
   ]
  },
  {
   "cell_type": "markdown",
   "metadata": {},
   "source": [
    "# Scoring "
   ]
  },
  {
   "cell_type": "markdown",
   "metadata": {},
   "source": [
    "## Visual datasets"
   ]
  },
  {
   "cell_type": "code",
   "execution_count": null,
   "metadata": {},
   "outputs": [],
   "source": [
    "model_names = [\"SAE\",\"ESAE\",\"VAE\", \"RSAE\"]\n",
    "scores_df = pd.DataFrame()\n",
    "scores_df[\"model_name\"] = model_names\n",
    "all_scores = []"
   ]
  },
  {
   "cell_type": "code",
   "execution_count": null,
   "metadata": {},
   "outputs": [],
   "source": [
    "#TODO: load handlers and scores "
   ]
  },
  {
   "cell_type": "markdown",
   "metadata": {},
   "source": [
    "## Vector datasets"
   ]
  },
  {
   "cell_type": "code",
   "execution_count": null,
   "metadata": {},
   "outputs": [],
   "source": [
    "#load all scores and save them in lists \n",
    "#extract relevan numbers from the lists and form a df\n",
    "# plot df with seaborn\n",
    "data_versions = [\"standard\",\"discrete\",\"continuous\",\"big\"]\n",
    "model_names = [\"VecESAE\",\"VecSAE\",\"VecVAE\"]"
   ]
  },
  {
   "cell_type": "code",
   "execution_count": null,
   "metadata": {},
   "outputs": [],
   "source": [
    "# collect the handlers\n",
    "handlers=[]\n",
    "for data_v in data_versions:\n",
    "    for model_n in model_names: \n",
    "        handler = (VectorModelHandler.from_config(model_name=model_n, model_version=\"standard\", \n",
    "                                           data=\"SynthVec\", data_version=data_v, verbose=False))\n",
    "        handlers.append(handler)"
   ]
  },
  {
   "cell_type": "code",
   "execution_count": null,
   "metadata": {},
   "outputs": [],
   "source": [
    "# fill the dataframe\n",
    "scores_df = pd.DataFrame()\n",
    "scores_df[\"model_name\"] = model_names*len(data_versions)\n",
    "scores_df[\"data_version\"] = [item for data_v in data_versions for item in [data_v]*len(model_names)]\n",
    "scores = [handler.load_scores(name=\"scoring\") for handler in handlers]\n",
    "for i,score_set in enumerate(scores): \n",
    "    for k,v in score_set.items():\n",
    "        scores_df.loc[i,k] = v"
   ]
  },
  {
   "cell_type": "markdown",
   "metadata": {},
   "source": [
    "## Visualise scores"
   ]
  },
  {
   "cell_type": "code",
   "execution_count": null,
   "metadata": {},
   "outputs": [],
   "source": [
    "#TODO: adjust plotting for visual datasets"
   ]
  },
  {
   "cell_type": "code",
   "execution_count": null,
   "metadata": {},
   "outputs": [],
   "source": [
    "scores_df"
   ]
  },
  {
   "cell_type": "code",
   "execution_count": null,
   "metadata": {},
   "outputs": [],
   "source": [
    "for k in scores_df.columns[2:6]: # orthogonality\n",
    "    fig, axs = plt.subplots(ncols=2, figsize=(20,9))\n",
    "    sns.boxplot(x='model_name',y=k,data=scores_df, ax=axs[0], palette=\"Blues\")\n",
    "    sns.boxplot(x='data_version',y=k,data=scores_df, ax=axs[1], palette=\"Greens\")"
   ]
  },
  {
   "cell_type": "code",
   "execution_count": null,
   "metadata": {},
   "outputs": [],
   "source": [
    "# finally visualising \n",
    "for k in scores_df.columns[6:]: # disentanglement\n",
    "    fig, axs = plt.subplots(ncols=2, figsize=(20,9))\n",
    "    sns.boxplot(x='model_name',y=k,data=scores_df, ax=axs[0], palette=\"Blues\")\n",
    "    sns.boxplot(x='data_version',y=k,data=scores_df, ax=axs[1], palette=\"Greens\")"
   ]
  }
 ],
 "metadata": {
  "kernelspec": {
   "display_name": "Python 3",
   "language": "python",
   "name": "python3"
  },
  "language_info": {
   "codemirror_mode": {
    "name": "ipython",
    "version": 3
   },
   "file_extension": ".py",
   "mimetype": "text/x-python",
   "name": "python",
   "nbconvert_exporter": "python",
   "pygments_lexer": "ipython3",
   "version": "3.7.5"
  }
 },
 "nbformat": 4,
 "nbformat_minor": 2
}
